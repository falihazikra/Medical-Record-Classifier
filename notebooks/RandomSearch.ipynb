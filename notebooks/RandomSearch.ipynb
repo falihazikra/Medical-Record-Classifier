{
 "cells": [
  {
   "cell_type": "code",
   "execution_count": 1,
   "metadata": {},
   "outputs": [],
   "source": [
    "\n",
    "import string\n",
    "import pandas as pd\n",
    "import nltk\n",
    "from nltk.corpus import stopwords\n",
    "import numpy as np\n",
    "from nltk.stem import WordNetLemmatizer, SnowballStemmer,PorterStemmer\n",
    "from sklearn.model_selection import train_test_split\n",
    "from sklearn.model_selection import GridSearchCV, RandomizedSearchCV\n",
    "from sklearn.feature_extraction.text import TfidfVectorizer\n",
    "from nltk.tokenize import word_tokenize\n",
    "from sklearn import model_selection, preprocessing, linear_model, naive_bayes, metrics, svm\n",
    "from sklearn.metrics import recall_score, precision_score, f1_score, accuracy_score\n",
    "from nltk.tokenize import PunktSentenceTokenizer , TreebankWordTokenizer\n",
    "from sklearn.naive_bayes import MultinomialNB\n",
    "from sklearn import decomposition, ensemble\n",
    "import pandas, numpy, string\n",
    "import re\n",
    "import matplotlib.pyplot as plt\n",
    "import seaborn as sns\n",
    "from sklearn.tree import DecisionTreeClassifier\n",
    "from sklearn.ensemble import RandomForestClassifier\n",
    "from sklearn.ensemble import GradientBoostingClassifier\n",
    "from sklearn.ensemble import AdaBoostClassifier\n",
    "from sklearn.model_selection import train_test_split, cross_val_score\n",
    "from sklearn.metrics import confusion_matrix, make_scorer\n",
    "from __future__ import print_function\n",
    "\n",
    "from pprint import pprint\n",
    "from time import time\n",
    "import logging\n",
    "from sklearn.linear_model import LogisticRegression\n",
    "from sklearn.datasets import fetch_20newsgroups\n",
    "from sklearn.feature_extraction.text import CountVectorizer\n",
    "from sklearn.feature_extraction.text import TfidfTransformer\n",
    "from sklearn.linear_model import SGDClassifier\n",
    "from sklearn.model_selection import GridSearchCV\n",
    "from sklearn.pipeline import Pipeline"
   ]
  },
  {
   "cell_type": "code",
   "execution_count": 2,
   "metadata": {},
   "outputs": [
    {
     "name": "stdout",
     "output_type": "stream",
     "text": [
      "/home/ubuntu/capstone/capstone\n"
     ]
    }
   ],
   "source": [
    "cd .."
   ]
  },
  {
   "cell_type": "markdown",
   "metadata": {},
   "source": [
    "# EDA"
   ]
  },
  {
   "cell_type": "code",
   "execution_count": 3,
   "metadata": {},
   "outputs": [],
   "source": [
    "#converted xml to json\n",
    "df0 = pd.read_json('smokers_surrogate_all_data copy.json')"
   ]
  },
  {
   "cell_type": "code",
   "execution_count": 4,
   "metadata": {},
   "outputs": [],
   "source": [
    "df=df0.copy()"
   ]
  },
  {
   "cell_type": "code",
   "execution_count": 5,
   "metadata": {},
   "outputs": [],
   "source": [
    "#Transposing to rearrange columns\n",
    "df=df.T"
   ]
  },
  {
   "cell_type": "code",
   "execution_count": 6,
   "metadata": {},
   "outputs": [],
   "source": [
    "df=df.reset_index()"
   ]
  },
  {
   "cell_type": "code",
   "execution_count": 7,
   "metadata": {},
   "outputs": [],
   "source": [
    "#giving columns names\n",
    "df.columns = ['id', 'smoking_status','descrp']"
   ]
  },
  {
   "cell_type": "code",
   "execution_count": 8,
   "metadata": {},
   "outputs": [
    {
     "data": {
      "image/png": "[encoded data removed]",
      "text/plain": [
       "<Figure size 576x360 with 1 Axes>"
      ]
     },
     "metadata": {},
     "output_type": "display_data"
    }
   ],
   "source": [
    "# Figure to see the number of records\n",
    "a4_dims = (8, 5)\n",
    "\n",
    "fig, ax = plt.subplots(figsize=a4_dims)\n",
    "sns.set(style=\"darkgrid\")\n",
    "\n",
    "sns.countplot(x=\"smoking_status\", data=df)\n",
    "plt.title(\"Number of records per smoking category\", fontsize=18)\n",
    "plt.ylabel('# of Occurrences', fontsize=14)\n",
    "plt.xlabel('Smoking Category', fontsize=14);"
   ]
  },
  {
   "cell_type": "code",
   "execution_count": 9,
   "metadata": {},
   "outputs": [
    {
     "data": {
      "text/plain": [
       "UNKNOWN           315\n",
       "NON-SMOKER         82\n",
       "PAST SMOKER        47\n",
       "CURRENT SMOKER     46\n",
       "SMOKER             12\n",
       "Name: smoking_status, dtype: int64"
      ]
     },
     "execution_count": 9,
     "metadata": {},
     "output_type": "execute_result"
    }
   ],
   "source": [
    "df.smoking_status.value_counts()"
   ]
  },
  {
   "cell_type": "markdown",
   "metadata": {},
   "source": [
    "# Classification -Level 1"
   ]
  },
  {
   "cell_type": "code",
   "execution_count": 10,
   "metadata": {},
   "outputs": [],
   "source": [
    "# seperating records based on unknown and known smoking related text status\n",
    "def unknown(column):\n",
    "    if 'UNKNOWN' in column :\n",
    "        return 1\n",
    "\n",
    "    else: return 0\n",
    "\n",
    "df[\"smoking_unknown\"] = df[\"smoking_status\"].apply(unknown)"
   ]
  },
  {
   "cell_type": "code",
   "execution_count": 11,
   "metadata": {},
   "outputs": [
    {
     "data": {
      "text/html": [
       "<div>\n",
       "<style scoped>\n",
       "    .dataframe tbody tr th:only-of-type {\n",
       "        vertical-align: middle;\n",
       "    }\n",
       "\n",
       "    .dataframe tbody tr th {\n",
       "        vertical-align: top;\n",
       "    }\n",
       "\n",
       "    .dataframe thead th {\n",
       "        text-align: right;\n",
       "    }\n",
       "</style>\n",
       "<table border=\"1\" class=\"dataframe\">\n",
       "  <thead>\n",
       "    <tr style=\"text-align: right;\">\n",
       "      <th></th>\n",
       "      <th>id</th>\n",
       "      <th>smoking_status</th>\n",
       "      <th>descrp</th>\n",
       "      <th>smoking_unknown</th>\n",
       "    </tr>\n",
       "  </thead>\n",
       "  <tbody>\n",
       "    <tr>\n",
       "      <th>0</th>\n",
       "      <td>1</td>\n",
       "      <td>CURRENT SMOKER</td>\n",
       "      <td>726132880DH9749099947532747353312/7/2006 12:00...</td>\n",
       "      <td>0</td>\n",
       "    </tr>\n",
       "    <tr>\n",
       "      <th>1</th>\n",
       "      <td>10</td>\n",
       "      <td>UNKNOWN</td>\n",
       "      <td>688127038 EH474495202045123/5/2002 12:00:00 AM...</td>\n",
       "      <td>1</td>\n",
       "    </tr>\n",
       "    <tr>\n",
       "      <th>2</th>\n",
       "      <td>100</td>\n",
       "      <td>UNKNOWN</td>\n",
       "      <td>214735961 DH97919193790395496149/9/2000 12:00:...</td>\n",
       "      <td>1</td>\n",
       "    </tr>\n",
       "    <tr>\n",
       "      <th>3</th>\n",
       "      <td>101</td>\n",
       "      <td>UNKNOWN</td>\n",
       "      <td>070203832 DH844654367833868044754/2/2003 12:00...</td>\n",
       "      <td>1</td>\n",
       "    </tr>\n",
       "    <tr>\n",
       "      <th>4</th>\n",
       "      <td>109</td>\n",
       "      <td>CURRENT SMOKER</td>\n",
       "      <td>782836641 DH9369592011119747713/15/2002 12:00:...</td>\n",
       "      <td>0</td>\n",
       "    </tr>\n",
       "  </tbody>\n",
       "</table>\n",
       "</div>"
      ],
      "text/plain": [
       "    id  smoking_status                                             descrp  \\\n",
       "0    1  CURRENT SMOKER  726132880DH9749099947532747353312/7/2006 12:00...   \n",
       "1   10         UNKNOWN  688127038 EH474495202045123/5/2002 12:00:00 AM...   \n",
       "2  100         UNKNOWN  214735961 DH97919193790395496149/9/2000 12:00:...   \n",
       "3  101         UNKNOWN  070203832 DH844654367833868044754/2/2003 12:00...   \n",
       "4  109  CURRENT SMOKER  782836641 DH9369592011119747713/15/2002 12:00:...   \n",
       "\n",
       "   smoking_unknown  \n",
       "0                0  \n",
       "1                1  \n",
       "2                1  \n",
       "3                1  \n",
       "4                0  "
      ]
     },
     "execution_count": 11,
     "metadata": {},
     "output_type": "execute_result"
    }
   ],
   "source": [
    "df.head()"
   ]
  },
  {
   "cell_type": "code",
   "execution_count": 12,
   "metadata": {},
   "outputs": [
    {
     "data": {
      "text/plain": [
       "1    315\n",
       "0    187\n",
       "Name: smoking_unknown, dtype: int64"
      ]
     },
     "execution_count": 12,
     "metadata": {},
     "output_type": "execute_result"
    }
   ],
   "source": [
    "df.smoking_unknown.value_counts()"
   ]
  },
  {
   "cell_type": "markdown",
   "metadata": {},
   "source": [
    "## Stop Words"
   ]
  },
  {
   "cell_type": "code",
   "execution_count": 13,
   "metadata": {},
   "outputs": [],
   "source": [
    "sw=['summaryunsigneddisreport','yregistration','amed','date','patient','mm', 'st','amdischarge','doctor', 'hospital',\n",
    "    'surgery','pain','problem','discharge','admission','i', 'me', 'my', 'myself', 'we', 'our', 'ours', 'ourselves',\n",
    "    'you', \"you're\", \"you've\", \"you'll\", \"you'd\", 'your', 'yours', 'yourself', 'yourselves', 'he', 'him', 'his', \n",
    "    'himself', 'she', \"she's\", 'her', 'hers', 'herself', 'it', \"it's\", 'its', 'itself', 'they', 'them', 'their', \n",
    "    'theirs', 'themselves', 'what', 'which', 'who', 'whom', 'this', 'that', \"that'll\", 'these', 'those', 'am','be',\n",
    "    'a', 'an', 'the', 'and', 'but', 'if', 'or', 'because', 'as', 'of', 'at', 'by', 'for', 'about', 'against', \n",
    "    'between', 'into', 'through', 'above', 'below', 'to', 'from', 'up', 'down', 'in', 'out', 'on', 'off', 'over',\n",
    "    'under', 'further', 'here', 'there', 'when', 'where', 'why', 'how', 'all', 'any', 'both', 'each', 'more', \n",
    "    'most', 'other', 'some', 'such', 'own', 'same', 'so', 'than', 'too', 'very', 's', 't', 'just', 'don', \"don't\",\n",
    "    'should', \"should've\", 'd', 'll', 'm', 'o', 're', 've', 'y', 'ain', 'aren', \"aren't\", 'couldn', \"couldn't\",\n",
    "    'ma', 'needn', \"needn't\", 'shan', \"shan't\", 'shouldn', \"shouldn't\", 'won', \"won't\", 'wouldn', \"wouldn't\"\n",
    "    'aboard','about','above','across','along','an','and','another','any','around','as','at','below','behind','below'\n",
    "    ,'beneath','beside','beyond','certain','down','during','each','following','for','from','inside','into','its',\n",
    "    'like','minus','my','near','next','opposite','outside','out','over','plus','round','so','some','than','through',\n",
    "    'toward','underneath','unlike','yet','under','unsigneded']"
   ]
  },
  {
   "cell_type": "markdown",
   "metadata": {},
   "source": [
    "## Text Preprocessing"
   ]
  },
  {
   "cell_type": "code",
   "execution_count": 14,
   "metadata": {},
   "outputs": [],
   "source": [
    "def text_process(description):\n",
    "    \n",
    "    \n",
    "        \n",
    "    nopunc=[char for char in description if char not in string.punctuation]\n",
    "    \n",
    "    nopunc=''.join(nopunc)\n",
    "    \n",
    "    splitnum  = re.split('(\\d+)',nopunc)\n",
    "    splitnum=' '.join(splitnum)\n",
    "    new=re.sub(\" \\d+\", \" \", splitnum)\n",
    " \n",
    "    \n",
    "    \n",
    "    swtext= [word.lower() for word in new.split() if word not in [x.upper() for x in sw]]\n",
    "    \n",
    "    return ' '.join(swtext)\n"
   ]
  },
  {
   "cell_type": "markdown",
   "metadata": {},
   "source": [
    "## Modeling"
   ]
  },
  {
   "cell_type": "code",
   "execution_count": 15,
   "metadata": {},
   "outputs": [],
   "source": [
    "X  = df['descrp']\n",
    "y = df['smoking_unknown']"
   ]
  },
  {
   "cell_type": "code",
   "execution_count": 16,
   "metadata": {},
   "outputs": [],
   "source": [
    "X_train,  X_test,  y_train, y_test  =  train_test_split(X,y,test_size=0.25, random_state=42)"
   ]
  },
  {
   "cell_type": "code",
   "execution_count": 17,
   "metadata": {},
   "outputs": [],
   "source": [
    "tfidf_vect = TfidfVectorizer(preprocessor=text_process)\n",
    "tfidf_vect.fit(X_train)\n",
    "xtrain_tfidf =  tfidf_vect.transform(X_train)\n",
    "xtest_tfidf =  tfidf_vect.transform(X_test)"
   ]
  },
  {
   "cell_type": "markdown",
   "metadata": {},
   "source": [
    "#### Random Forest"
   ]
  },
  {
   "cell_type": "code",
   "execution_count": 18,
   "metadata": {},
   "outputs": [
    {
     "name": "stdout",
     "output_type": "stream",
     "text": [
      "1 0.5952380952380952\n",
      "5 0.6349206349206349\n",
      "10 0.7380952380952381\n",
      "15 0.7698412698412699\n",
      "25 0.7936507936507936\n",
      "50 0.8095238095238095\n",
      "100 0.8333333333333334\n",
      "150 0.8492063492063492\n",
      "200 0.8333333333333334\n",
      "250 0.8412698412698413\n",
      "300 0.8571428571428571\n",
      "500 0.8492063492063492\n",
      "700 0.8650793650793651\n",
      "1000 0.8650793650793651\n",
      "1100 0.8571428571428571\n",
      "1200 0.8571428571428571\n",
      "1300 0.8571428571428571\n"
     ]
    }
   ],
   "source": [
    "treelist=[1,5,10,15,25,50,100,150,200,250,300,500,700,1000,1100,1200,1300]\n",
    "for trees in treelist:\n",
    "# for trees in range(25,300,25):\n",
    "    regr = RandomForestClassifier(n_estimators=trees,random_state=42)\n",
    "    regr.fit(xtrain_tfidf, y_train)\n",
    "    print(trees, regr.score(xtest_tfidf,y_test))\n",
    "# print(rf_score)"
   ]
  },
  {
   "cell_type": "code",
   "execution_count": 19,
   "metadata": {},
   "outputs": [
    {
     "name": "stdout",
     "output_type": "stream",
     "text": [
      "Fitting 10 folds for each of 100 candidates, totalling 1000 fits\n"
     ]
    },
    {
     "name": "stderr",
     "output_type": "stream",
     "text": [
      "[Parallel(n_jobs=-1)]: Done  18 tasks      | elapsed:   49.7s\n",
      "[Parallel(n_jobs=-1)]: Done 168 tasks      | elapsed:  4.5min\n",
      "[Parallel(n_jobs=-1)]: Done 418 tasks      | elapsed: 11.0min\n",
      "[Parallel(n_jobs=-1)]: Done 768 tasks      | elapsed: 19.8min\n",
      "[Parallel(n_jobs=-1)]: Done 1000 out of 1000 | elapsed: 25.5min finished\n"
     ]
    },
    {
     "data": {
      "text/plain": [
       "RandomizedSearchCV(cv=10, error_score='raise',\n",
       "          estimator=Pipeline(memory=None,\n",
       "     steps=[('vect', TfidfVectorizer(analyzer='word', binary=False, decode_error='strict',\n",
       "        dtype=<class 'numpy.int64'>, encoding='utf-8', input='content',\n",
       "        lowercase=True, max_df=1.0, max_features=None, min_df=1,\n",
       "        ngram_range=(1, 1), norm='l2',\n",
       "        preprocessor=<function text_pr...n_jobs=1,\n",
       "            oob_score=False, random_state=None, verbose=0,\n",
       "            warm_start=False))]),\n",
       "          fit_params=None, iid=True, n_iter=100, n_jobs=-1,\n",
       "          param_distributions={'vect__use_idf': (True, False), 'vect__norm': ('l1', 'l2'), 'vect__min_df': [1, 2, 3, 4, 5], 'vect__max_df': [0.6, 0.7, 0.8, 0.9, 1.0], 'vect__ngram_range': [(1, 2), (1, 3), (1, 4), (2, 3), (2, 4), (2, 5)], 'vect__max_features': [2000, 3000, 4000, 5000, 7000, 8000], 'clf__max_fe... 5, 7, 10], 'clf__min_samples_leaf': [1, 25, 50, 75, 100], 'clf__random_state': [15325, 42, 100, 1]},\n",
       "          pre_dispatch='2*n_jobs', random_state=None, refit=True,\n",
       "          return_train_score='warn', scoring='roc_auc', verbose=1)"
      ]
     },
     "execution_count": 19,
     "metadata": {},
     "output_type": "execute_result"
    }
   ],
   "source": [
    "pip = Pipeline([\n",
    "    ('vect', TfidfVectorizer(sublinear_tf=True,\n",
    "                             preprocessor=text_process,\n",
    "                             )),\n",
    "     ('clf',RandomForestClassifier(n_estimators=300) )])\n",
    "\n",
    "# Number of trees in random forest\n",
    "\n",
    "# Number of features to consider at every split\n",
    "max_features = ['auto', 'sqrt',0.2]\n",
    "# Maximum number of levels in tree\n",
    "max_depth = [int(x) for x in np.linspace(10, 110, num = 11)]\n",
    "\n",
    "# Minimum number of samples required to split a node\n",
    "min_samples_split = [2, 5, 7, 10]\n",
    "# Minimum number of samples required at each leaf node\n",
    "min_samples_leaf = [int(x) for x in np.linspace(1, 100, num = 5)]\n",
    "\n",
    "\n",
    "\n",
    "# Create the random grid\n",
    "\n",
    "\n",
    "rf_param = {'vect__use_idf': (True, False),\n",
    "                'vect__norm': ('l1', 'l2'),\n",
    "               'vect__min_df':[1,2,3,4,5], \n",
    "                'vect__max_df':[0.6,0.7,0.8,0.9,1.0],\n",
    "               'vect__ngram_range':[(1,2),(1,3),(1,4),(2,3),(2,4),(2,5)],\n",
    "               'vect__max_features':[2000,3000,4000,5000,7000,8000],\n",
    "              'clf__max_features': max_features,\n",
    "              'clf__max_depth': max_depth,\n",
    "              'clf__min_samples_split': min_samples_split,\n",
    "              'clf__min_samples_leaf': min_samples_leaf,\n",
    "              'clf__random_state':[15325,42,100,1]\n",
    "              }\n",
    "\n",
    "# Use the random grid to search for best hyperparameters\n",
    "# First create the base model to tune\n",
    "\n",
    "# Random search of parameters, using 3 fold cross validation, \n",
    "# search across 100 different combinations, and use all available cores\n",
    "rf_random = RandomizedSearchCV(estimator = pip, param_distributions = rf_param, cv = 10,n_iter = 100,scoring='roc_auc' ,verbose=1,  n_jobs = -1)\n",
    "# Fit the random search model\n",
    "rf_random.fit(X_train, y_train)"
   ]
  },
  {
   "cell_type": "code",
   "execution_count": 20,
   "metadata": {},
   "outputs": [
    {
     "data": {
      "text/plain": [
       "{'vect__use_idf': True,\n",
       " 'vect__norm': 'l1',\n",
       " 'vect__ngram_range': (1, 2),\n",
       " 'vect__min_df': 1,\n",
       " 'vect__max_features': 7000,\n",
       " 'vect__max_df': 1.0,\n",
       " 'clf__random_state': 100,\n",
       " 'clf__min_samples_split': 7,\n",
       " 'clf__min_samples_leaf': 1,\n",
       " 'clf__max_features': 0.2,\n",
       " 'clf__max_depth': 90}"
      ]
     },
     "execution_count": 20,
     "metadata": {},
     "output_type": "execute_result"
    }
   ],
   "source": [
    "rf_random.best_params_"
   ]
  },
  {
   "cell_type": "code",
   "execution_count": 21,
   "metadata": {},
   "outputs": [
    {
     "data": {
      "text/plain": [
       "0.9676569864763668"
      ]
     },
     "execution_count": 21,
     "metadata": {},
     "output_type": "execute_result"
    }
   ],
   "source": [
    "rf_random.best_score_"
   ]
  },
  {
   "cell_type": "markdown",
   "metadata": {},
   "source": [
    "#### Naive Bayes"
   ]
  },
  {
   "cell_type": "code",
   "execution_count": 22,
   "metadata": {},
   "outputs": [
    {
     "name": "stdout",
     "output_type": "stream",
     "text": [
      "Fitting 10 folds for each of 100 candidates, totalling 1000 fits\n"
     ]
    },
    {
     "name": "stderr",
     "output_type": "stream",
     "text": [
      "[Parallel(n_jobs=-1)]: Done  18 tasks      | elapsed:   45.6s\n",
      "[Parallel(n_jobs=-1)]: Done 168 tasks      | elapsed:  4.2min\n",
      "[Parallel(n_jobs=-1)]: Done 418 tasks      | elapsed: 10.4min\n",
      "[Parallel(n_jobs=-1)]: Done 768 tasks      | elapsed: 19.0min\n",
      "[Parallel(n_jobs=-1)]: Done 1000 out of 1000 | elapsed: 24.5min finished\n"
     ]
    },
    {
     "data": {
      "text/plain": [
       "RandomizedSearchCV(cv=10, error_score='raise',\n",
       "          estimator=Pipeline(memory=None,\n",
       "     steps=[('vect', CountVectorizer(analyzer='word', binary=False, decode_error='strict',\n",
       "        dtype=<class 'numpy.int64'>, encoding='utf-8', input='content',\n",
       "        lowercase=True, max_df=1.0, max_features=None, min_df=1,\n",
       "        ngram_range=(1, 1),\n",
       "        preprocessor=<function text_process at 0x...inear_tf=False, use_idf=True)), ('clf', MultinomialNB(alpha=1.0, class_prior=None, fit_prior=True))]),\n",
       "          fit_params=None, iid=True, n_iter=100, n_jobs=-1,\n",
       "          param_distributions={'vect__min_df': [1, 2, 3, 4, 5], 'vect__max_df': [0.6, 0.7, 0.8, 0.9, 1.0], 'vect__ngram_range': [(1, 2), (1, 3), (1, 4), (2, 3), (2, 4), (2, 5)], 'tfidf__use_idf': (True, False), 'tfidf__norm': ('l1', 'l2'), 'tfidf__sublinear_tf': (True, False), 'clf__alpha': (1, 0.1, 0.01, 0.001, 0.0001, 1e-05)},\n",
       "          pre_dispatch='2*n_jobs', random_state=15325, refit=True,\n",
       "          return_train_score='warn', scoring='roc_auc', verbose=1)"
      ]
     },
     "execution_count": 22,
     "metadata": {},
     "output_type": "execute_result"
    }
   ],
   "source": [
    "pip_nb = Pipeline([\n",
    "    ('vect', CountVectorizer(preprocessor=text_process)),\n",
    "     ('tfidf', TfidfTransformer()),\n",
    "     ('clf',MultinomialNB() )])\n",
    "\n",
    "\n",
    "\n",
    "nb_param = {'vect__min_df':[1,2,3,4,5], \n",
    "           'vect__max_df':[0.6,0.7,0.8,0.9,1.0],\n",
    "           'vect__ngram_range':[(1,2),(1,3),(1,4),(2,3),(2,4),(2,5)],\n",
    "           'tfidf__use_idf': (True, False),\n",
    "            'tfidf__norm': ('l1', 'l2'),\n",
    "           'tfidf__sublinear_tf': (True, False),\n",
    "           'clf__alpha':(1, 0.1, 0.01, 0.001, 0.0001, 0.00001)\n",
    "              }\n",
    "\n",
    "# Use the random grid to search for best hyperparameters\n",
    "# First create the base model to tune\n",
    "\n",
    "# Random search of parameters, using 3 fold cross validation, \n",
    "# search across 100 different combinations, and use all available cores\n",
    "nb_random = RandomizedSearchCV(random_state=15325,estimator = pip_nb, param_distributions = nb_param, cv = 10,n_iter = 100,scoring='roc_auc' ,verbose=1,  n_jobs = -1)\n",
    "# Fit the random search model\n",
    "nb_random.fit(X_train, y_train)"
   ]
  },
  {
   "cell_type": "code",
   "execution_count": 23,
   "metadata": {},
   "outputs": [
    {
     "data": {
      "text/plain": [
       "{'vect__ngram_range': (1, 2),\n",
       " 'vect__min_df': 5,\n",
       " 'vect__max_df': 0.6,\n",
       " 'tfidf__use_idf': False,\n",
       " 'tfidf__sublinear_tf': True,\n",
       " 'tfidf__norm': 'l2',\n",
       " 'clf__alpha': 1e-05}"
      ]
     },
     "execution_count": 23,
     "metadata": {},
     "output_type": "execute_result"
    }
   ],
   "source": [
    "nb_random.best_params_"
   ]
  },
  {
   "cell_type": "code",
   "execution_count": 24,
   "metadata": {},
   "outputs": [
    {
     "data": {
      "text/plain": [
       "0.847212127219065"
      ]
     },
     "execution_count": 24,
     "metadata": {},
     "output_type": "execute_result"
    }
   ],
   "source": [
    "nb_random.best_score_"
   ]
  },
  {
   "cell_type": "markdown",
   "metadata": {},
   "source": [
    "#### Gradient Boosting"
   ]
  },
  {
   "cell_type": "code",
   "execution_count": 25,
   "metadata": {},
   "outputs": [
    {
     "name": "stdout",
     "output_type": "stream",
     "text": [
      "1 0.626984126984127\n",
      "5 0.873015873015873\n",
      "10 0.8809523809523809\n",
      "15 0.8888888888888888\n",
      "25 0.9126984126984127\n",
      "50 0.9365079365079365\n",
      "100 0.9444444444444444\n",
      "150 0.9444444444444444\n",
      "200 0.9444444444444444\n",
      "250 0.9365079365079365\n",
      "300 0.9444444444444444\n",
      "500 0.9365079365079365\n",
      "700 0.9365079365079365\n",
      "1000 0.9365079365079365\n",
      "1100 0.9365079365079365\n",
      "1200 0.9365079365079365\n",
      "1300 0.9365079365079365\n"
     ]
    }
   ],
   "source": [
    "treelist=[1,5,10,15,25,50,100,150,200,250,300,500,700,1000,1100,1200,1300]\n",
    "for trees in treelist:\n",
    "# for trees in range(25,300,25):\n",
    "    regr = GradientBoostingClassifier(n_estimators=trees,random_state=42)\n",
    "    regr.fit(xtrain_tfidf, y_train)\n",
    "    print(trees, regr.score(xtest_tfidf,y_test))\n",
    "# print(rf_score)"
   ]
  },
  {
   "cell_type": "code",
   "execution_count": 26,
   "metadata": {},
   "outputs": [
    {
     "name": "stdout",
     "output_type": "stream",
     "text": [
      "Fitting 10 folds for each of 100 candidates, totalling 1000 fits\n"
     ]
    },
    {
     "name": "stderr",
     "output_type": "stream",
     "text": [
      "[Parallel(n_jobs=-1)]: Done  18 tasks      | elapsed:   43.5s\n",
      "[Parallel(n_jobs=-1)]: Done 168 tasks      | elapsed:  4.5min\n",
      "[Parallel(n_jobs=-1)]: Done 418 tasks      | elapsed: 10.3min\n",
      "[Parallel(n_jobs=-1)]: Done 768 tasks      | elapsed: 18.8min\n",
      "[Parallel(n_jobs=-1)]: Done 1000 out of 1000 | elapsed: 24.2min finished\n"
     ]
    },
    {
     "data": {
      "text/plain": [
       "RandomizedSearchCV(cv=10, error_score='raise',\n",
       "          estimator=Pipeline(memory=None,\n",
       "     steps=[('vect', TfidfVectorizer(analyzer='word', binary=False, decode_error='strict',\n",
       "        dtype=<class 'numpy.int64'>, encoding='utf-8', input='content',\n",
       "        lowercase=True, max_df=1.0, max_features=None, min_df=1,\n",
       "        ngram_range=(1, 1), norm='l2',\n",
       "        preprocessor=<function text_pr...      presort='auto', random_state=None, subsample=1.0, verbose=0,\n",
       "              warm_start=False))]),\n",
       "          fit_params=None, iid=True, n_iter=100, n_jobs=-1,\n",
       "          param_distributions={'vect__use_idf': (True, False), 'vect__norm': ('l1', 'l2'), 'vect__sublinear_tf': (True, False), 'vect__min_df': [1, 2, 3, 4, 5], 'vect__max_df': [0.6, 0.7, 0.8, 0.9, 1.0], 'vect__ngram_range': [(1, 2), (1, 3), (1, 4), (2, 3), (2, 4), (2, 5)], 'vect__max_features': [2000, 3000, ...__subsample': [0.7, 0.75, 0.8, 0.85, 0.9, 0.95, 1], 'clf__max_features': ['auto', 'sqrt', 0.2, 0.1]},\n",
       "          pre_dispatch='2*n_jobs', random_state=15325, refit=True,\n",
       "          return_train_score='warn', scoring='roc_auc', verbose=1)"
      ]
     },
     "execution_count": 26,
     "metadata": {},
     "output_type": "execute_result"
    }
   ],
   "source": [
    "pip_gb = Pipeline([\n",
    "    ('vect', TfidfVectorizer(\n",
    "                             preprocessor=text_process, \n",
    "                             stop_words=sw,\n",
    "                             )),\n",
    "     ('clf',GradientBoostingClassifier(n_estimators=100) )])\n",
    "\n",
    "\n",
    "\n",
    "\n",
    "# Create the random grid\n",
    "\n",
    "\n",
    "gb_params = {'vect__use_idf': (True, False),\n",
    "                'vect__norm': ('l1', 'l2'),\n",
    "               'vect__sublinear_tf': (True, False),\n",
    "               'vect__min_df':[1,2,3,4,5], \n",
    "                'vect__max_df':[0.6,0.7,0.8,0.9,1.0],\n",
    "                'vect__ngram_range':[(1,2),(1,3),(1,4),(2,3),(2,4),(2,5)],\n",
    "               'vect__max_features':[2000,3000,4000,5000,7000,8000],\n",
    "                  'clf__learning_rate': [0.15,0.1,0.05,0.02,0.01,0.005,0.001],\n",
    "                  'clf__min_samples_split':[int(x) for x in np.linspace(2, 20, num = 2)],\n",
    "              'clf__max_depth': [int(x) for x in np.linspace(1, 15, num = 2)],\n",
    "              'clf__min_samples_leaf': [int(x) for x in np.linspace(1, 100, num = 5)],\n",
    "              'clf__subsample':[0.7,0.75,0.8,0.85,0.9,0.95,1],\n",
    "                  'clf__max_features':['auto','sqrt',0.2,0.1]\n",
    "              }\n",
    "\n",
    "# Use the random grid to search for best hyperparameters\n",
    "# First create the base model to tune\n",
    "\n",
    "# Random search of parameters, using 3 fold cross validation, \n",
    "# search across 100 different combinations, and use all available cores\n",
    "gb_random = RandomizedSearchCV(random_state=15325,estimator = pip_gb, param_distributions = gb_params, cv = 10,n_iter = 100,scoring='roc_auc' ,verbose=1,  n_jobs = -1)\n",
    "# Fit the random search model\n",
    "gb_random.fit(X_train, y_train)"
   ]
  },
  {
   "cell_type": "code",
   "execution_count": 27,
   "metadata": {},
   "outputs": [
    {
     "data": {
      "text/plain": [
       "0.98638275846879"
      ]
     },
     "execution_count": 27,
     "metadata": {},
     "output_type": "execute_result"
    }
   ],
   "source": [
    "gb_random.best_score_"
   ]
  },
  {
   "cell_type": "code",
   "execution_count": 28,
   "metadata": {},
   "outputs": [
    {
     "data": {
      "text/plain": [
       "{'vect__use_idf': True,\n",
       " 'vect__sublinear_tf': False,\n",
       " 'vect__norm': 'l2',\n",
       " 'vect__ngram_range': (1, 2),\n",
       " 'vect__min_df': 4,\n",
       " 'vect__max_features': 3000,\n",
       " 'vect__max_df': 0.8,\n",
       " 'clf__subsample': 0.8,\n",
       " 'clf__min_samples_split': 20,\n",
       " 'clf__min_samples_leaf': 1,\n",
       " 'clf__max_features': 'auto',\n",
       " 'clf__max_depth': 15,\n",
       " 'clf__learning_rate': 0.05}"
      ]
     },
     "execution_count": 28,
     "metadata": {},
     "output_type": "execute_result"
    }
   ],
   "source": [
    "gb_random.best_params_"
   ]
  },
  {
   "cell_type": "code",
   "execution_count": null,
   "metadata": {},
   "outputs": [],
   "source": []
  },
  {
   "cell_type": "markdown",
   "metadata": {},
   "source": [
    "#### Logistic regression"
   ]
  },
  {
   "cell_type": "code",
   "execution_count": 29,
   "metadata": {},
   "outputs": [
    {
     "name": "stdout",
     "output_type": "stream",
     "text": [
      "Fitting 10 folds for each of 100 candidates, totalling 1000 fits\n"
     ]
    },
    {
     "name": "stderr",
     "output_type": "stream",
     "text": [
      "[Parallel(n_jobs=-1)]: Done  18 tasks      | elapsed:   44.0s\n",
      "[Parallel(n_jobs=-1)]: Done 168 tasks      | elapsed:  4.1min\n",
      "[Parallel(n_jobs=-1)]: Done 418 tasks      | elapsed: 10.2min\n",
      "[Parallel(n_jobs=-1)]: Done 768 tasks      | elapsed: 18.4min\n",
      "[Parallel(n_jobs=-1)]: Done 1000 out of 1000 | elapsed: 23.8min finished\n"
     ]
    },
    {
     "data": {
      "text/plain": [
       "RandomizedSearchCV(cv=10, error_score='raise',\n",
       "          estimator=Pipeline(memory=None,\n",
       "     steps=[('vect', TfidfVectorizer(analyzer='word', binary=False, decode_error='strict',\n",
       "        dtype=<class 'numpy.int64'>, encoding='utf-8', input='content',\n",
       "        lowercase=True, max_df=1.0, max_features=None, min_df=1,\n",
       "        ngram_range=(1, 1), norm='l2',\n",
       "        preprocessor=<function text_pr...ty='l2', random_state=None, solver='liblinear', tol=0.0001,\n",
       "          verbose=0, warm_start=False))]),\n",
       "          fit_params=None, iid=True, n_iter=100, n_jobs=-1,\n",
       "          param_distributions={'vect__use_idf': (True, False), 'vect__norm': ('l1', 'l2'), 'vect__sublinear_tf': (True, False), 'vect__min_df': [1, 2, 3, 4, 5], 'vect__max_df': [0.6, 0.7, 0.8, 0.9, 1.0], 'vect__ngram_range': [(1, 2), (1, 3), (1, 4), (2, 3), (2, 4), (2, 5)], 'vect__max_features': [2000, 3000, 4000, 5000, 7000, 8000], 'clf__C': [0.001, 0.01, 0.1, 1, 10, 100, 1000], 'clf__penalty': ['l1', 'l2']},\n",
       "          pre_dispatch='2*n_jobs', random_state=15325, refit=True,\n",
       "          return_train_score='warn', scoring='roc_auc', verbose=1)"
      ]
     },
     "execution_count": 29,
     "metadata": {},
     "output_type": "execute_result"
    }
   ],
   "source": [
    "pip_lr = Pipeline([\n",
    "    ('vect', TfidfVectorizer(\n",
    "                             preprocessor=text_process, \n",
    "                             stop_words=sw,\n",
    "                             )),\n",
    "     ('clf',LogisticRegression())])\n",
    "\n",
    "\n",
    "lr_params={'vect__use_idf': (True, False),\n",
    "                'vect__norm': ('l1', 'l2'),\n",
    "               'vect__sublinear_tf': (True, False),\n",
    "               'vect__min_df':[1,2,3,4,5], \n",
    "                'vect__max_df':[0.6,0.7,0.8,0.9,1.0],\n",
    "                'vect__ngram_range':[(1,2),(1,3),(1,4),(2,3),(2,4),(2,5)],\n",
    "               'vect__max_features':[2000,3000,4000,5000,7000,8000],\n",
    "           'clf__C': [0.001, 0.01, 0.1, 1, 10, 100, 1000] ,\n",
    "              'clf__penalty':['l1','l2']}\n",
    "\n",
    "lr_random = RandomizedSearchCV(random_state=15325,estimator = pip_lr, param_distributions = lr_params, cv = 10,n_iter = 100,scoring='roc_auc' ,verbose=1,  n_jobs = -1)\n",
    "# Fit the random search model\n",
    "lr_random.fit(X_train, y_train)"
   ]
  },
  {
   "cell_type": "code",
   "execution_count": 30,
   "metadata": {},
   "outputs": [
    {
     "data": {
      "text/plain": [
       "0.9667353585745122"
      ]
     },
     "execution_count": 30,
     "metadata": {},
     "output_type": "execute_result"
    }
   ],
   "source": [
    "lr_random.best_score_"
   ]
  },
  {
   "cell_type": "code",
   "execution_count": 31,
   "metadata": {},
   "outputs": [
    {
     "data": {
      "text/plain": [
       "{'vect__use_idf': True,\n",
       " 'vect__sublinear_tf': True,\n",
       " 'vect__norm': 'l2',\n",
       " 'vect__ngram_range': (1, 3),\n",
       " 'vect__min_df': 4,\n",
       " 'vect__max_features': 3000,\n",
       " 'vect__max_df': 0.9,\n",
       " 'clf__penalty': 'l1',\n",
       " 'clf__C': 1000}"
      ]
     },
     "execution_count": 31,
     "metadata": {},
     "output_type": "execute_result"
    }
   ],
   "source": [
    "lr_random.best_params_"
   ]
  },
  {
   "cell_type": "markdown",
   "metadata": {},
   "source": [
    "# Classification- Level 2"
   ]
  },
  {
   "cell_type": "code",
   "execution_count": 32,
   "metadata": {},
   "outputs": [],
   "source": [
    "df1=df.copy()"
   ]
  },
  {
   "cell_type": "code",
   "execution_count": 33,
   "metadata": {},
   "outputs": [],
   "source": [
    "secondf=df1[df1.smoking_unknown==0]"
   ]
  },
  {
   "cell_type": "code",
   "execution_count": 34,
   "metadata": {},
   "outputs": [
    {
     "data": {
      "text/html": [
       "<div>\n",
       "<style scoped>\n",
       "    .dataframe tbody tr th:only-of-type {\n",
       "        vertical-align: middle;\n",
       "    }\n",
       "\n",
       "    .dataframe tbody tr th {\n",
       "        vertical-align: top;\n",
       "    }\n",
       "\n",
       "    .dataframe thead th {\n",
       "        text-align: right;\n",
       "    }\n",
       "</style>\n",
       "<table border=\"1\" class=\"dataframe\">\n",
       "  <thead>\n",
       "    <tr style=\"text-align: right;\">\n",
       "      <th></th>\n",
       "      <th>id</th>\n",
       "      <th>smoking_status</th>\n",
       "      <th>descrp</th>\n",
       "      <th>smoking_unknown</th>\n",
       "    </tr>\n",
       "  </thead>\n",
       "  <tbody>\n",
       "    <tr>\n",
       "      <th>0</th>\n",
       "      <td>1</td>\n",
       "      <td>CURRENT SMOKER</td>\n",
       "      <td>726132880DH9749099947532747353312/7/2006 12:00...</td>\n",
       "      <td>0</td>\n",
       "    </tr>\n",
       "    <tr>\n",
       "      <th>4</th>\n",
       "      <td>109</td>\n",
       "      <td>CURRENT SMOKER</td>\n",
       "      <td>782836641 DH9369592011119747713/15/2002 12:00:...</td>\n",
       "      <td>0</td>\n",
       "    </tr>\n",
       "    <tr>\n",
       "      <th>5</th>\n",
       "      <td>111</td>\n",
       "      <td>NON-SMOKER</td>\n",
       "      <td>081039790 EH0586196722141427/23/2003 12:00:00 ...</td>\n",
       "      <td>0</td>\n",
       "    </tr>\n",
       "    <tr>\n",
       "      <th>10</th>\n",
       "      <td>121</td>\n",
       "      <td>SMOKER</td>\n",
       "      <td>403426241 EH1248981382315612/13/2002 12:00:00 ...</td>\n",
       "      <td>0</td>\n",
       "    </tr>\n",
       "    <tr>\n",
       "      <th>11</th>\n",
       "      <td>130</td>\n",
       "      <td>CURRENT SMOKER</td>\n",
       "      <td>897261359 EH7423428587654175/23/2003 12:00:00 ...</td>\n",
       "      <td>0</td>\n",
       "    </tr>\n",
       "  </tbody>\n",
       "</table>\n",
       "</div>"
      ],
      "text/plain": [
       "     id  smoking_status                                             descrp  \\\n",
       "0     1  CURRENT SMOKER  726132880DH9749099947532747353312/7/2006 12:00...   \n",
       "4   109  CURRENT SMOKER  782836641 DH9369592011119747713/15/2002 12:00:...   \n",
       "5   111      NON-SMOKER  081039790 EH0586196722141427/23/2003 12:00:00 ...   \n",
       "10  121          SMOKER  403426241 EH1248981382315612/13/2002 12:00:00 ...   \n",
       "11  130  CURRENT SMOKER  897261359 EH7423428587654175/23/2003 12:00:00 ...   \n",
       "\n",
       "    smoking_unknown  \n",
       "0                 0  \n",
       "4                 0  \n",
       "5                 0  \n",
       "10                0  \n",
       "11                0  "
      ]
     },
     "execution_count": 34,
     "metadata": {},
     "output_type": "execute_result"
    }
   ],
   "source": [
    "secondf.head()"
   ]
  },
  {
   "cell_type": "markdown",
   "metadata": {},
   "source": [
    "## Data preprocessing"
   ]
  },
  {
   "cell_type": "code",
   "execution_count": 35,
   "metadata": {},
   "outputs": [
    {
     "name": "stderr",
     "output_type": "stream",
     "text": [
      "/home/ubuntu/anaconda3/lib/python3.6/site-packages/ipykernel_launcher.py:8: SettingWithCopyWarning: \n",
      "A value is trying to be set on a copy of a slice from a DataFrame.\n",
      "Try using .loc[row_indexer,col_indexer] = value instead\n",
      "\n",
      "See the caveats in the documentation: http://pandas.pydata.org/pandas-docs/stable/indexing.html#indexing-view-versus-copy\n",
      "  \n"
     ]
    }
   ],
   "source": [
    "# Out of the known smoking records, classifiy them based on the non smoker status\n",
    "def smokerclass(column):\n",
    "    if 'NON-SMOKER' in column :\n",
    "        return 1\n",
    "\n",
    "    else: return 0\n",
    "\n",
    "secondf[\"smoking_nonsmoking\"] = secondf[\"smoking_status\"].apply(smokerclass)"
   ]
  },
  {
   "cell_type": "code",
   "execution_count": 36,
   "metadata": {},
   "outputs": [
    {
     "data": {
      "text/html": [
       "<div>\n",
       "<style scoped>\n",
       "    .dataframe tbody tr th:only-of-type {\n",
       "        vertical-align: middle;\n",
       "    }\n",
       "\n",
       "    .dataframe tbody tr th {\n",
       "        vertical-align: top;\n",
       "    }\n",
       "\n",
       "    .dataframe thead th {\n",
       "        text-align: right;\n",
       "    }\n",
       "</style>\n",
       "<table border=\"1\" class=\"dataframe\">\n",
       "  <thead>\n",
       "    <tr style=\"text-align: right;\">\n",
       "      <th></th>\n",
       "      <th>id</th>\n",
       "      <th>smoking_status</th>\n",
       "      <th>descrp</th>\n",
       "      <th>smoking_unknown</th>\n",
       "      <th>smoking_nonsmoking</th>\n",
       "    </tr>\n",
       "  </thead>\n",
       "  <tbody>\n",
       "    <tr>\n",
       "      <th>0</th>\n",
       "      <td>1</td>\n",
       "      <td>CURRENT SMOKER</td>\n",
       "      <td>726132880DH9749099947532747353312/7/2006 12:00...</td>\n",
       "      <td>0</td>\n",
       "      <td>0</td>\n",
       "    </tr>\n",
       "    <tr>\n",
       "      <th>4</th>\n",
       "      <td>109</td>\n",
       "      <td>CURRENT SMOKER</td>\n",
       "      <td>782836641 DH9369592011119747713/15/2002 12:00:...</td>\n",
       "      <td>0</td>\n",
       "      <td>0</td>\n",
       "    </tr>\n",
       "    <tr>\n",
       "      <th>5</th>\n",
       "      <td>111</td>\n",
       "      <td>NON-SMOKER</td>\n",
       "      <td>081039790 EH0586196722141427/23/2003 12:00:00 ...</td>\n",
       "      <td>0</td>\n",
       "      <td>1</td>\n",
       "    </tr>\n",
       "    <tr>\n",
       "      <th>10</th>\n",
       "      <td>121</td>\n",
       "      <td>SMOKER</td>\n",
       "      <td>403426241 EH1248981382315612/13/2002 12:00:00 ...</td>\n",
       "      <td>0</td>\n",
       "      <td>0</td>\n",
       "    </tr>\n",
       "    <tr>\n",
       "      <th>11</th>\n",
       "      <td>130</td>\n",
       "      <td>CURRENT SMOKER</td>\n",
       "      <td>897261359 EH7423428587654175/23/2003 12:00:00 ...</td>\n",
       "      <td>0</td>\n",
       "      <td>0</td>\n",
       "    </tr>\n",
       "  </tbody>\n",
       "</table>\n",
       "</div>"
      ],
      "text/plain": [
       "     id  smoking_status                                             descrp  \\\n",
       "0     1  CURRENT SMOKER  726132880DH9749099947532747353312/7/2006 12:00...   \n",
       "4   109  CURRENT SMOKER  782836641 DH9369592011119747713/15/2002 12:00:...   \n",
       "5   111      NON-SMOKER  081039790 EH0586196722141427/23/2003 12:00:00 ...   \n",
       "10  121          SMOKER  403426241 EH1248981382315612/13/2002 12:00:00 ...   \n",
       "11  130  CURRENT SMOKER  897261359 EH7423428587654175/23/2003 12:00:00 ...   \n",
       "\n",
       "    smoking_unknown  smoking_nonsmoking  \n",
       "0                 0                   0  \n",
       "4                 0                   0  \n",
       "5                 0                   1  \n",
       "10                0                   0  \n",
       "11                0                   0  "
      ]
     },
     "execution_count": 36,
     "metadata": {},
     "output_type": "execute_result"
    }
   ],
   "source": [
    "secondf.head()"
   ]
  },
  {
   "cell_type": "code",
   "execution_count": 37,
   "metadata": {},
   "outputs": [
    {
     "data": {
      "text/plain": [
       "0    105\n",
       "1     82\n",
       "Name: smoking_nonsmoking, dtype: int64"
      ]
     },
     "execution_count": 37,
     "metadata": {},
     "output_type": "execute_result"
    }
   ],
   "source": [
    "secondf.smoking_nonsmoking.value_counts()"
   ]
  },
  {
   "cell_type": "markdown",
   "metadata": {},
   "source": [
    "### Modeling"
   ]
  },
  {
   "cell_type": "code",
   "execution_count": 71,
   "metadata": {},
   "outputs": [],
   "source": [
    "X  = secondf['descrp']\n",
    "y = secondf['smoking_nonsmoking']\n"
   ]
  },
  {
   "cell_type": "code",
   "execution_count": 72,
   "metadata": {},
   "outputs": [],
   "source": [
    "X_train,  X_test,  y_train, y_test  =  train_test_split(X,y,test_size=0.25, random_state=50)"
   ]
  },
  {
   "cell_type": "code",
   "execution_count": 73,
   "metadata": {},
   "outputs": [],
   "source": [
    "tfidf_vect = TfidfVectorizer()\n",
    "tfidf_vect.fit(X_train)\n",
    "xtrain_tfidf =  tfidf_vect.transform(X_train)\n",
    "xtest_tfidf =  tfidf_vect.transform(X_test)\n",
    "\n"
   ]
  },
  {
   "cell_type": "markdown",
   "metadata": {},
   "source": [
    "#### Random Forest"
   ]
  },
  {
   "cell_type": "code",
   "execution_count": 66,
   "metadata": {},
   "outputs": [
    {
     "name": "stdout",
     "output_type": "stream",
     "text": [
      "1 0.6382978723404256\n",
      "5 0.723404255319149\n",
      "10 0.7021276595744681\n",
      "15 0.723404255319149\n",
      "25 0.7446808510638298\n",
      "50 0.7446808510638298\n",
      "60 0.723404255319149\n",
      "70 0.6808510638297872\n",
      "100 0.6808510638297872\n",
      "150 0.6808510638297872\n",
      "200 0.6595744680851063\n",
      "250 0.6595744680851063\n",
      "300 0.6382978723404256\n",
      "500 0.6170212765957447\n",
      "700 0.6170212765957447\n",
      "1000 0.6170212765957447\n",
      "1100 0.6170212765957447\n",
      "1200 0.5957446808510638\n",
      "1300 0.6170212765957447\n"
     ]
    }
   ],
   "source": [
    "treelist=[1,5,10,15,25,50,60,70,100,150,200,250,300,500,700,1000,1100,1200,1300]\n",
    "for trees in treelist:\n",
    "# for trees in range(25,300,25):\n",
    "    regr = RandomForestClassifier(n_estimators=trees,random_state=42)\n",
    "    regr.fit(xtrain_tfidf, y_train)\n",
    "    print(trees, regr.score(xtest_tfidf,y_test))\n",
    "# print(rf_score)"
   ]
  },
  {
   "cell_type": "code",
   "execution_count": 68,
   "metadata": {},
   "outputs": [
    {
     "name": "stdout",
     "output_type": "stream",
     "text": [
      "Fitting 10 folds for each of 100 candidates, totalling 1000 fits\n"
     ]
    },
    {
     "name": "stderr",
     "output_type": "stream",
     "text": [
      "[Parallel(n_jobs=-1)]: Done  18 tasks      | elapsed:   24.5s\n",
      "[Parallel(n_jobs=-1)]: Done 168 tasks      | elapsed:  2.3min\n",
      "[Parallel(n_jobs=-1)]: Done 418 tasks      | elapsed:  5.6min\n",
      "[Parallel(n_jobs=-1)]: Done 768 tasks      | elapsed: 10.1min\n",
      "[Parallel(n_jobs=-1)]: Done 1000 out of 1000 | elapsed: 13.1min finished\n"
     ]
    },
    {
     "data": {
      "text/plain": [
       "RandomizedSearchCV(cv=10, error_score='raise',\n",
       "          estimator=Pipeline(memory=None,\n",
       "     steps=[('vect', TfidfVectorizer(analyzer='word', binary=False, decode_error='strict',\n",
       "        dtype=<class 'numpy.int64'>, encoding='utf-8', input='content',\n",
       "        lowercase=True, max_df=1.0, max_features=None, min_df=1,\n",
       "        ngram_range=(1, 1), norm='l2',\n",
       "        preprocessor=<function text_pr...n_jobs=1,\n",
       "            oob_score=False, random_state=None, verbose=0,\n",
       "            warm_start=False))]),\n",
       "          fit_params=None, iid=True, n_iter=100, n_jobs=-1,\n",
       "          param_distributions={'vect__use_idf': (True, False), 'vect__norm': ('l1', 'l2'), 'vect__min_df': [1, 2, 3, 4, 5], 'vect__max_df': [0.6, 0.7, 0.8, 0.9, 1.0], 'vect__ngram_range': [(1, 2), (1, 3), (1, 4), (2, 3), (2, 4), (2, 5)], 'vect__max_features': [2000, 3000, 4000, 5000, 7000, 8000], 'clf__n_esti..., 100, 110], 'clf__min_samples_split': [2, 5, 7, 10], 'clf__min_samples_leaf': [1, 25, 50, 75, 100]},\n",
       "          pre_dispatch='2*n_jobs', random_state=15325, refit=True,\n",
       "          return_train_score='warn', scoring='roc_auc', verbose=1)"
      ]
     },
     "execution_count": 68,
     "metadata": {},
     "output_type": "execute_result"
    }
   ],
   "source": [
    "pip = Pipeline([\n",
    "    ('vect', TfidfVectorizer(sublinear_tf=True,\n",
    "                             preprocessor=text_process, \n",
    "                             stop_words=sw,\n",
    "                             )),\n",
    "     ('clf',RandomForestClassifier() )])\n",
    "\n",
    "\n",
    "# Number of features to consider at every split\n",
    "max_features = ['auto', 'sqrt',0.2]\n",
    "# Maximum number of levels in tree\n",
    "max_depth = [int(x) for x in np.linspace(10, 110, num = 11)]\n",
    "\n",
    "# Minimum number of samples required to split a node\n",
    "min_samples_split = [2, 5, 7, 10]\n",
    "# Minimum number of samples required at each leaf node\n",
    "min_samples_leaf = [int(x) for x in np.linspace(1, 100, num = 5)]\n",
    "\n",
    "\n",
    "\n",
    "# Create the random grid\n",
    "\n",
    "\n",
    "rf_param = {'vect__use_idf': (True, False),\n",
    "                'vect__norm': ('l1', 'l2'),\n",
    "               'vect__min_df':[1,2,3,4,5], \n",
    "                'vect__max_df':[0.6,0.7,0.8,0.9,1.0],\n",
    "               'vect__ngram_range':[(1,2),(1,3),(1,4),(2,3),(2,4),(2,5)],\n",
    "               'vect__max_features':[2000,3000,4000,5000,7000,8000],\n",
    "                'clf__n_estimators':[int(x) for x in np.linspace(10, 1000, num = 10)],\n",
    "              'clf__max_features': max_features,\n",
    "              'clf__max_depth': max_depth,\n",
    "              'clf__min_samples_split': min_samples_split,\n",
    "              'clf__min_samples_leaf': min_samples_leaf,\n",
    "              \n",
    "              }\n",
    "\n",
    "# Use the random grid to search for best hyperparameters\n",
    "# First create the base model to tune\n",
    "\n",
    "# Random search of parameters, using 3 fold cross validation, \n",
    "# search across 100 different combinations, and use all available cores\n",
    "rf_random = RandomizedSearchCV(random_state=15325,estimator = pip, param_distributions = rf_param, cv = 10,n_iter = 100,scoring='roc_auc' ,verbose=1,  n_jobs = -1)\n",
    "# Fit the random search model\n",
    "rf_random.fit(X_train, y_train)"
   ]
  },
  {
   "cell_type": "code",
   "execution_count": 69,
   "metadata": {},
   "outputs": [
    {
     "data": {
      "text/plain": [
       "{'vect__use_idf': False,\n",
       " 'vect__norm': 'l2',\n",
       " 'vect__ngram_range': (1, 2),\n",
       " 'vect__min_df': 2,\n",
       " 'vect__max_features': 4000,\n",
       " 'vect__max_df': 1.0,\n",
       " 'clf__n_estimators': 450,\n",
       " 'clf__min_samples_split': 7,\n",
       " 'clf__min_samples_leaf': 1,\n",
       " 'clf__max_features': 0.2,\n",
       " 'clf__max_depth': 10}"
      ]
     },
     "execution_count": 69,
     "metadata": {},
     "output_type": "execute_result"
    }
   ],
   "source": [
    "rf_random.best_params_"
   ]
  },
  {
   "cell_type": "code",
   "execution_count": 70,
   "metadata": {},
   "outputs": [
    {
     "data": {
      "text/plain": [
       "0.8357993197278911"
      ]
     },
     "execution_count": 70,
     "metadata": {},
     "output_type": "execute_result"
    }
   ],
   "source": [
    "rf_random.best_score_"
   ]
  },
  {
   "cell_type": "markdown",
   "metadata": {},
   "source": [
    "#### Naive Bayes"
   ]
  },
  {
   "cell_type": "code",
   "execution_count": 74,
   "metadata": {},
   "outputs": [
    {
     "name": "stdout",
     "output_type": "stream",
     "text": [
      "Fitting 10 folds for each of 100 candidates, totalling 1000 fits\n"
     ]
    },
    {
     "name": "stderr",
     "output_type": "stream",
     "text": [
      "[Parallel(n_jobs=-1)]: Done  18 tasks      | elapsed:   21.6s\n",
      "[Parallel(n_jobs=-1)]: Done 168 tasks      | elapsed:  2.1min\n",
      "[Parallel(n_jobs=-1)]: Done 418 tasks      | elapsed:  5.2min\n",
      "[Parallel(n_jobs=-1)]: Done 768 tasks      | elapsed:  9.4min\n",
      "[Parallel(n_jobs=-1)]: Done 1000 out of 1000 | elapsed: 12.3min finished\n"
     ]
    },
    {
     "data": {
      "text/plain": [
       "RandomizedSearchCV(cv=10, error_score='raise',\n",
       "          estimator=Pipeline(memory=None,\n",
       "     steps=[('vect', TfidfVectorizer(analyzer='word', binary=False, decode_error='strict',\n",
       "        dtype=<class 'numpy.int64'>, encoding='utf-8', input='content',\n",
       "        lowercase=True, max_df=1.0, max_features=None, min_df=1,\n",
       "        ngram_range=(1, 1), norm='l2',\n",
       "        preprocessor=<function text_pr...se_idf=True, vocabulary=None)), ('clf', MultinomialNB(alpha=1.0, class_prior=None, fit_prior=True))]),\n",
       "          fit_params=None, iid=True, n_iter=100, n_jobs=-1,\n",
       "          param_distributions={'vect__min_df': [1, 2, 3, 4, 5], 'vect__max_df': [0.6, 0.7, 0.8, 0.9, 1.0], 'vect__ngram_range': [(1, 2), (1, 3), (1, 4), (2, 3), (2, 4), (2, 5)], 'vect__use_idf': (True, False), 'vect__norm': ('l1', 'l2'), 'vect__sublinear_tf': (True, False), 'clf__alpha': (1, 0.1, 0.01, 0.001, 0.0001, 1e-05)},\n",
       "          pre_dispatch='2*n_jobs', random_state=15325, refit=True,\n",
       "          return_train_score='warn', scoring='roc_auc', verbose=1)"
      ]
     },
     "execution_count": 74,
     "metadata": {},
     "output_type": "execute_result"
    }
   ],
   "source": [
    "pip_nb = Pipeline([\n",
    "    ('vect', TfidfVectorizer(preprocessor=text_process)),\n",
    "     ('clf',MultinomialNB() )])\n",
    "\n",
    "\n",
    "\n",
    "nb_param = {'vect__min_df':[1,2,3,4,5], \n",
    "           'vect__max_df':[0.6,0.7,0.8,0.9,1.0],\n",
    "           'vect__ngram_range':[(1,2),(1,3),(1,4),(2,3),(2,4),(2,5)],\n",
    "           'vect__use_idf': (True, False),\n",
    "            'vect__norm': ('l1', 'l2'),\n",
    "           'vect__sublinear_tf': (True, False),\n",
    "           'clf__alpha':(1, 0.1, 0.01, 0.001, 0.0001, 0.00001)\n",
    "              }\n",
    "\n",
    "# Use the random grid to search for best hyperparameters\n",
    "# First create the base model to tune\n",
    "\n",
    "# Random search of parameters, using 3 fold cross validation, \n",
    "# search across 100 different combinations, and use all available cores\n",
    "nb_random = RandomizedSearchCV(random_state=15325,estimator = pip_nb, param_distributions = nb_param, cv = 10,n_iter = 100,scoring='roc_auc' ,verbose=1,  n_jobs = -1)\n",
    "# Fit the random search model\n",
    "nb_random.fit(X_train, y_train)"
   ]
  },
  {
   "cell_type": "code",
   "execution_count": 75,
   "metadata": {},
   "outputs": [
    {
     "data": {
      "text/plain": [
       "0.7744047619047619"
      ]
     },
     "execution_count": 75,
     "metadata": {},
     "output_type": "execute_result"
    }
   ],
   "source": [
    "nb_random.best_score_"
   ]
  },
  {
   "cell_type": "code",
   "execution_count": 76,
   "metadata": {},
   "outputs": [
    {
     "data": {
      "text/plain": [
       "{'vect__use_idf': False,\n",
       " 'vect__sublinear_tf': True,\n",
       " 'vect__norm': 'l2',\n",
       " 'vect__ngram_range': (2, 4),\n",
       " 'vect__min_df': 1,\n",
       " 'vect__max_df': 0.8,\n",
       " 'clf__alpha': 1e-05}"
      ]
     },
     "execution_count": 76,
     "metadata": {},
     "output_type": "execute_result"
    }
   ],
   "source": [
    "nb_random.best_params_"
   ]
  },
  {
   "cell_type": "code",
   "execution_count": null,
   "metadata": {},
   "outputs": [],
   "source": []
  },
  {
   "cell_type": "markdown",
   "metadata": {},
   "source": [
    "#### Logistic regression"
   ]
  },
  {
   "cell_type": "code",
   "execution_count": 77,
   "metadata": {},
   "outputs": [
    {
     "name": "stdout",
     "output_type": "stream",
     "text": [
      "Fitting 10 folds for each of 100 candidates, totalling 1000 fits\n"
     ]
    },
    {
     "name": "stderr",
     "output_type": "stream",
     "text": [
      "[Parallel(n_jobs=-1)]: Done  18 tasks      | elapsed:   22.3s\n",
      "[Parallel(n_jobs=-1)]: Done 168 tasks      | elapsed:  2.1min\n",
      "[Parallel(n_jobs=-1)]: Done 418 tasks      | elapsed:  5.2min\n",
      "[Parallel(n_jobs=-1)]: Done 768 tasks      | elapsed:  9.3min\n",
      "[Parallel(n_jobs=-1)]: Done 1000 out of 1000 | elapsed: 12.1min finished\n"
     ]
    },
    {
     "data": {
      "text/plain": [
       "RandomizedSearchCV(cv=10, error_score='raise',\n",
       "          estimator=Pipeline(memory=None,\n",
       "     steps=[('vect', TfidfVectorizer(analyzer='word', binary=False, decode_error='strict',\n",
       "        dtype=<class 'numpy.int64'>, encoding='utf-8', input='content',\n",
       "        lowercase=True, max_df=1.0, max_features=None, min_df=1,\n",
       "        ngram_range=(1, 1), norm='l2',\n",
       "        preprocessor=<function text_pr...ty='l2', random_state=None, solver='liblinear', tol=0.0001,\n",
       "          verbose=0, warm_start=False))]),\n",
       "          fit_params=None, iid=True, n_iter=100, n_jobs=-1,\n",
       "          param_distributions={'vect__use_idf': (True, False), 'vect__norm': ('l1', 'l2'), 'vect__sublinear_tf': (True, False), 'vect__min_df': [1, 2, 3, 4, 5], 'vect__max_df': [0.6, 0.7, 0.8, 0.9, 1.0], 'vect__ngram_range': [(1, 2), (1, 3), (1, 4), (2, 3), (2, 4), (2, 5)], 'vect__max_features': [2000, 3000, 4000, 5000, 7000, 8000], 'clf__C': [0.001, 0.01, 0.1, 1, 10, 100, 1000], 'clf__penalty': ['l1', 'l2']},\n",
       "          pre_dispatch='2*n_jobs', random_state=15325, refit=True,\n",
       "          return_train_score='warn', scoring='roc_auc', verbose=1)"
      ]
     },
     "execution_count": 77,
     "metadata": {},
     "output_type": "execute_result"
    }
   ],
   "source": [
    "pip_lr = Pipeline([\n",
    "    ('vect', TfidfVectorizer(\n",
    "                             preprocessor=text_process, \n",
    "                             stop_words=sw,\n",
    "                             )),\n",
    "     ('clf',LogisticRegression())])\n",
    "\n",
    "\n",
    "lr_params={'vect__use_idf': (True, False),\n",
    "                'vect__norm': ('l1', 'l2'),\n",
    "               'vect__sublinear_tf': (True, False),\n",
    "               'vect__min_df':[1,2,3,4,5], \n",
    "                'vect__max_df':[0.6,0.7,0.8,0.9,1.0],\n",
    "                'vect__ngram_range':[(1,2),(1,3),(1,4),(2,3),(2,4),(2,5)],\n",
    "               'vect__max_features':[2000,3000,4000,5000,7000,8000],\n",
    "           'clf__C': [0.001, 0.01, 0.1, 1, 10, 100, 1000] ,\n",
    "              'clf__penalty':['l1','l2']}\n",
    "\n",
    "lr_random = RandomizedSearchCV(random_state=15325,estimator = pip_lr, param_distributions = lr_params, cv = 10,n_iter = 100,scoring='roc_auc' ,verbose=1,  n_jobs = -1)\n",
    "# Fit the random search model\n",
    "lr_random.fit(X_train, y_train)"
   ]
  },
  {
   "cell_type": "code",
   "execution_count": 78,
   "metadata": {},
   "outputs": [
    {
     "data": {
      "text/plain": [
       "{'vect__use_idf': True,\n",
       " 'vect__sublinear_tf': True,\n",
       " 'vect__norm': 'l2',\n",
       " 'vect__ngram_range': (1, 3),\n",
       " 'vect__min_df': 4,\n",
       " 'vect__max_features': 3000,\n",
       " 'vect__max_df': 0.9,\n",
       " 'clf__penalty': 'l1',\n",
       " 'clf__C': 1000}"
      ]
     },
     "execution_count": 78,
     "metadata": {},
     "output_type": "execute_result"
    }
   ],
   "source": [
    "lr_random.best_params_"
   ]
  },
  {
   "cell_type": "code",
   "execution_count": 79,
   "metadata": {},
   "outputs": [
    {
     "data": {
      "text/plain": [
       "0.8205357142857143"
      ]
     },
     "execution_count": 79,
     "metadata": {},
     "output_type": "execute_result"
    }
   ],
   "source": [
    "lr_random.best_score_"
   ]
  },
  {
   "cell_type": "markdown",
   "metadata": {},
   "source": [
    "#### Gradient Boosting"
   ]
  },
  {
   "cell_type": "code",
   "execution_count": null,
   "metadata": {},
   "outputs": [],
   "source": []
  },
  {
   "cell_type": "code",
   "execution_count": 45,
   "metadata": {},
   "outputs": [
    {
     "name": "stdout",
     "output_type": "stream",
     "text": [
      "1 0.6595744680851063\n",
      "5 0.7021276595744681\n",
      "10 0.7446808510638298\n",
      "15 0.723404255319149\n",
      "25 0.7021276595744681\n",
      "50 0.723404255319149\n",
      "100 0.723404255319149\n",
      "110 0.723404255319149\n",
      "120 0.723404255319149\n",
      "130 0.723404255319149\n",
      "150 0.7021276595744681\n",
      "200 0.6808510638297872\n",
      "250 0.723404255319149\n",
      "300 0.723404255319149\n",
      "500 0.723404255319149\n",
      "700 0.723404255319149\n",
      "1000 0.723404255319149\n",
      "1100 0.723404255319149\n",
      "1200 0.723404255319149\n",
      "1300 0.723404255319149\n"
     ]
    }
   ],
   "source": [
    "treelist=[1,5,10,15,25,50,100,110,120,130,150,200,250,300,500,700,1000,1100,1200,1300]\n",
    "for trees in treelist:\n",
    "# for trees in range(25,300,25):\n",
    "    regr = GradientBoostingClassifier(n_estimators=trees,random_state=42)\n",
    "    regr.fit(xtrain_tfidf, y_train)\n",
    "    print(trees, regr.score(xtest_tfidf,y_test))\n",
    "# print(rf_score)"
   ]
  },
  {
   "cell_type": "code",
   "execution_count": 46,
   "metadata": {},
   "outputs": [
    {
     "name": "stdout",
     "output_type": "stream",
     "text": [
      "Fitting 10 folds for each of 100 candidates, totalling 1000 fits\n"
     ]
    },
    {
     "name": "stderr",
     "output_type": "stream",
     "text": [
      "[Parallel(n_jobs=-1)]: Done  18 tasks      | elapsed:   22.6s\n",
      "[Parallel(n_jobs=-1)]: Done 168 tasks      | elapsed:  2.1min\n",
      "[Parallel(n_jobs=-1)]: Done 418 tasks      | elapsed:  5.0min\n",
      "[Parallel(n_jobs=-1)]: Done 768 tasks      | elapsed:  9.2min\n",
      "[Parallel(n_jobs=-1)]: Done 1000 out of 1000 | elapsed: 12.0min finished\n"
     ]
    },
    {
     "data": {
      "text/plain": [
       "RandomizedSearchCV(cv=10, error_score='raise',\n",
       "          estimator=Pipeline(memory=None,\n",
       "     steps=[('vect', TfidfVectorizer(analyzer='word', binary=False, decode_error='strict',\n",
       "        dtype=<class 'numpy.int64'>, encoding='utf-8', input='content',\n",
       "        lowercase=True, max_df=1.0, max_features=None, min_df=1,\n",
       "        ngram_range=(1, 1), norm='l2',\n",
       "        preprocessor=<function text_pr...      presort='auto', random_state=None, subsample=1.0, verbose=0,\n",
       "              warm_start=False))]),\n",
       "          fit_params=None, iid=True, n_iter=100, n_jobs=-1,\n",
       "          param_distributions={'vect__use_idf': (True, False), 'vect__norm': ('l1', 'l2'), 'vect__sublinear_tf': (True, False), 'vect__min_df': [1, 2, 3, 4, 5], 'vect__max_df': [0.6, 0.7, 0.8, 0.9, 1.0], 'vect__ngram_range': [(1, 2), (1, 3), (1, 4), (2, 3), (2, 4), (2, 5)], 'vect__max_features': [2000, 3000, ...__subsample': [0.7, 0.75, 0.8, 0.85, 0.9, 0.95, 1], 'clf__max_features': ['auto', 'sqrt', 0.2, 0.1]},\n",
       "          pre_dispatch='2*n_jobs', random_state=None, refit=True,\n",
       "          return_train_score='warn', scoring='roc_auc', verbose=1)"
      ]
     },
     "execution_count": 46,
     "metadata": {},
     "output_type": "execute_result"
    }
   ],
   "source": [
    "pip_gb = Pipeline([\n",
    "    ('vect', TfidfVectorizer(\n",
    "                             preprocessor=text_process, \n",
    "                             stop_words=sw,\n",
    "                             )),\n",
    "     ('clf',GradientBoostingClassifier(n_estimators=50) )])\n",
    "\n",
    "\n",
    "\n",
    "# Create the random grid\n",
    "\n",
    "\n",
    "gb_params = {'vect__use_idf': (True, False),\n",
    "                'vect__norm': ('l1', 'l2'),\n",
    "               'vect__sublinear_tf': (True, False),\n",
    "               'vect__min_df':[1,2,3,4,5], \n",
    "                'vect__max_df':[0.6,0.7,0.8,0.9,1.0],\n",
    "                'vect__ngram_range':[(1,2),(1,3),(1,4),(2,3),(2,4),(2,5)],\n",
    "               'vect__max_features':[2000,3000,4000,5000,7000,8000],\n",
    "                  'clf__learning_rate': [0.15,0.1,0.05,0.02,0.01,0.005,0.001],\n",
    "                  'clf__min_samples_split':[int(x) for x in np.linspace(2, 20, num = 2)],\n",
    "              'clf__max_depth': [int(x) for x in np.linspace(1, 15, num = 2)],\n",
    "              'clf__min_samples_leaf': [int(x) for x in np.linspace(1, 100, num = 5)],\n",
    "              'clf__subsample':[0.7,0.75,0.8,0.85,0.9,0.95,1],\n",
    "                  'clf__max_features':['auto','sqrt',0.2,0.1]\n",
    "              }\n",
    "\n",
    "# Use the random grid to search for best hyperparameters\n",
    "# First create the base model to tune\n",
    "\n",
    "# Random search of parameters, using 3 fold cross validation, \n",
    "# search across 100 different combinations, and use all available cores\n",
    "gb_random = RandomizedSearchCV(estimator = pip_gb, param_distributions = gb_params, cv = 10,n_iter = 100,scoring='roc_auc' ,verbose=1,  n_jobs = -1)\n",
    "# Fit the random search model\n",
    "gb_random.fit(X_train, y_train)"
   ]
  },
  {
   "cell_type": "code",
   "execution_count": 47,
   "metadata": {},
   "outputs": [
    {
     "data": {
      "text/plain": [
       "0.8461309523809525"
      ]
     },
     "execution_count": 47,
     "metadata": {},
     "output_type": "execute_result"
    }
   ],
   "source": [
    "gb_random.best_score_"
   ]
  },
  {
   "cell_type": "code",
   "execution_count": 48,
   "metadata": {},
   "outputs": [
    {
     "data": {
      "text/plain": [
       "{'vect__use_idf': False,\n",
       " 'vect__sublinear_tf': True,\n",
       " 'vect__norm': 'l1',\n",
       " 'vect__ngram_range': (1, 2),\n",
       " 'vect__min_df': 2,\n",
       " 'vect__max_features': 4000,\n",
       " 'vect__max_df': 0.8,\n",
       " 'clf__subsample': 0.9,\n",
       " 'clf__min_samples_split': 20,\n",
       " 'clf__min_samples_leaf': 1,\n",
       " 'clf__max_features': 'auto',\n",
       " 'clf__max_depth': 15,\n",
       " 'clf__learning_rate': 0.1}"
      ]
     },
     "execution_count": 48,
     "metadata": {},
     "output_type": "execute_result"
    }
   ],
   "source": [
    "gb_random.best_params_"
   ]
  },
  {
   "cell_type": "markdown",
   "metadata": {},
   "source": [
    "## Classification Final Layer"
   ]
  },
  {
   "cell_type": "code",
   "execution_count": 80,
   "metadata": {},
   "outputs": [],
   "source": [
    "thirdf=secondf[secondf.smoking_nonsmoking==0]"
   ]
  },
  {
   "cell_type": "code",
   "execution_count": 81,
   "metadata": {},
   "outputs": [
    {
     "name": "stderr",
     "output_type": "stream",
     "text": [
      "/home/ubuntu/anaconda3/lib/python3.6/site-packages/ipykernel_launcher.py:7: SettingWithCopyWarning: \n",
      "A value is trying to be set on a copy of a slice from a DataFrame.\n",
      "Try using .loc[row_indexer,col_indexer] = value instead\n",
      "\n",
      "See the caveats in the documentation: http://pandas.pydata.org/pandas-docs/stable/indexing.html#indexing-view-versus-copy\n",
      "  import sys\n"
     ]
    }
   ],
   "source": [
    "def smokerclass3rd(column):\n",
    "    if 'PAST SMOKER' in column :\n",
    "        return 1\n",
    "\n",
    "    else :return 0\n",
    "\n",
    "thirdf[\"smoking_past\"] = thirdf[\"smoking_status\"].apply(smokerclass3rd)"
   ]
  },
  {
   "cell_type": "code",
   "execution_count": 51,
   "metadata": {},
   "outputs": [
    {
     "name": "stdout",
     "output_type": "stream",
     "text": [
      "<class 'pandas.core.frame.DataFrame'>\n",
      "Int64Index: 105 entries, 0 to 486\n",
      "Data columns (total 6 columns):\n",
      "id                    105 non-null int64\n",
      "smoking_status        105 non-null object\n",
      "descrp                105 non-null object\n",
      "smoking_unknown       105 non-null int64\n",
      "smoking_nonsmoking    105 non-null int64\n",
      "smoking_past          105 non-null int64\n",
      "dtypes: int64(4), object(2)\n",
      "memory usage: 5.7+ KB\n"
     ]
    }
   ],
   "source": [
    "thirdf.info()"
   ]
  },
  {
   "cell_type": "code",
   "execution_count": 82,
   "metadata": {},
   "outputs": [],
   "source": [
    "X  = thirdf['descrp']\n",
    "y = thirdf['smoking_past']"
   ]
  },
  {
   "cell_type": "code",
   "execution_count": 83,
   "metadata": {},
   "outputs": [],
   "source": [
    "X_train,  X_test,  y_train, y_test  =  train_test_split(X,y,test_size=0.25, random_state=50)"
   ]
  },
  {
   "cell_type": "code",
   "execution_count": 84,
   "metadata": {},
   "outputs": [],
   "source": [
    "tfidf_vect = TfidfVectorizer()\n",
    "tfidf_vect.fit(X_train)\n",
    "xtrain_tfidf =  tfidf_vect.transform(X_train)\n",
    "xtest_tfidf =  tfidf_vect.transform(X_test)"
   ]
  },
  {
   "cell_type": "markdown",
   "metadata": {},
   "source": [
    "#### Random Forest"
   ]
  },
  {
   "cell_type": "code",
   "execution_count": 55,
   "metadata": {},
   "outputs": [
    {
     "name": "stdout",
     "output_type": "stream",
     "text": [
      "1 0.4444444444444444\n",
      "5 0.5555555555555556\n",
      "10 0.5185185185185185\n",
      "15 0.5555555555555556\n",
      "25 0.5555555555555556\n",
      "50 0.5185185185185185\n",
      "100 0.5555555555555556\n",
      "150 0.48148148148148145\n",
      "200 0.5555555555555556\n",
      "250 0.5925925925925926\n",
      "300 0.5555555555555556\n",
      "500 0.5555555555555556\n",
      "700 0.5925925925925926\n",
      "1000 0.5925925925925926\n",
      "1100 0.6296296296296297\n",
      "1200 0.6296296296296297\n",
      "1300 0.5925925925925926\n"
     ]
    }
   ],
   "source": [
    "treelist=[1,5,10,15,25,50,100,150,200,250,300,500,700,1000,1100,1200,1300]\n",
    "for trees in treelist:\n",
    "# for trees in range(25,300,25):\n",
    "    regr = RandomForestClassifier(n_estimators=trees,random_state=42)\n",
    "    regr.fit(xtrain_tfidf, y_train)\n",
    "    print(trees, regr.score(xtest_tfidf,y_test))\n",
    "# print(rf_score)"
   ]
  },
  {
   "cell_type": "code",
   "execution_count": 56,
   "metadata": {},
   "outputs": [
    {
     "name": "stdout",
     "output_type": "stream",
     "text": [
      "Fitting 10 folds for each of 100 candidates, totalling 1000 fits\n"
     ]
    },
    {
     "name": "stderr",
     "output_type": "stream",
     "text": [
      "[Parallel(n_jobs=-1)]: Done  18 tasks      | elapsed:   16.8s\n",
      "[Parallel(n_jobs=-1)]: Done 168 tasks      | elapsed:  1.5min\n",
      "[Parallel(n_jobs=-1)]: Done 418 tasks      | elapsed:  3.7min\n",
      "[Parallel(n_jobs=-1)]: Done 768 tasks      | elapsed:  6.8min\n",
      "[Parallel(n_jobs=-1)]: Done 1000 out of 1000 | elapsed:  8.7min finished\n"
     ]
    },
    {
     "data": {
      "text/plain": [
       "RandomizedSearchCV(cv=10, error_score='raise',\n",
       "          estimator=Pipeline(memory=None,\n",
       "     steps=[('vect', TfidfVectorizer(analyzer='word', binary=False, decode_error='strict',\n",
       "        dtype=<class 'numpy.int64'>, encoding='utf-8', input='content',\n",
       "        lowercase=True, max_df=1.0, max_features=None, min_df=1,\n",
       "        ngram_range=(1, 1), norm='l2',\n",
       "        preprocessor=<function text_pr...n_jobs=1,\n",
       "            oob_score=False, random_state=None, verbose=0,\n",
       "            warm_start=False))]),\n",
       "          fit_params=None, iid=True, n_iter=100, n_jobs=-1,\n",
       "          param_distributions={'vect__use_idf': (True, False), 'vect__norm': ('l1', 'l2'), 'vect__min_df': [1, 2, 3, 4, 5], 'vect__max_df': [0.6, 0.7, 0.8, 0.9, 1.0], 'vect__ngram_range': [(1, 2), (1, 3), (1, 4), (2, 3), (2, 4), (2, 5)], 'vect__max_features': [2000, 3000, 4000, 5000, 7000, 8000], 'clf__max_features': ['auto', 'sqrt', 0.2], 'clf__max_depth': [10, 20, 30, 40, 50, 60, 70, 80, 90, 100, 110], 'clf__min_samples_split': [2, 5, 7, 10], 'clf__min_samples_leaf': [1, 25, 50, 75, 100]},\n",
       "          pre_dispatch='2*n_jobs', random_state=None, refit=True,\n",
       "          return_train_score='warn', scoring='roc_auc', verbose=1)"
      ]
     },
     "execution_count": 56,
     "metadata": {},
     "output_type": "execute_result"
    }
   ],
   "source": [
    "pip = Pipeline([\n",
    "    ('vect', TfidfVectorizer(sublinear_tf=True,\n",
    "                             \n",
    "                             preprocessor=text_process, \n",
    "                             stop_words=sw,\n",
    "                             )),\n",
    "     ('clf',RandomForestClassifier(n_estimators=1200) )])\n",
    "\n",
    "\n",
    "\n",
    "\n",
    "\n",
    "# Create the random grid\n",
    "\n",
    "\n",
    "rf_param = {'vect__use_idf': (True, False),\n",
    "                'vect__norm': ('l1', 'l2'),\n",
    "               'vect__min_df':[1,2,3,4,5], \n",
    "                'vect__max_df':[0.6,0.7,0.8,0.9,1.0],\n",
    "               'vect__ngram_range':[(1,2),(1,3),(1,4),(2,3),(2,4),(2,5)],\n",
    "               'vect__max_features':[2000,3000,4000,5000,7000,8000],\n",
    "              'clf__max_features': max_features,\n",
    "              'clf__max_depth': max_depth,\n",
    "              'clf__min_samples_split': min_samples_split,\n",
    "              'clf__min_samples_leaf': min_samples_leaf,\n",
    "              \n",
    "              }\n",
    "\n",
    "# Use the random grid to search for best hyperparameters\n",
    "# First create the base model to tune\n",
    "\n",
    "# Random search of parameters, using 3 fold cross validation, \n",
    "# search across 100 different combinations, and use all available cores\n",
    "rf_random = RandomizedSearchCV(estimator = pip, param_distributions = rf_param, cv = 10,n_iter = 100,scoring='roc_auc' ,verbose=1,  n_jobs = -1)\n",
    "# Fit the random search model\n",
    "rf_random.fit(X_train, y_train)"
   ]
  },
  {
   "cell_type": "code",
   "execution_count": 57,
   "metadata": {},
   "outputs": [
    {
     "data": {
      "text/plain": [
       "{'vect__use_idf': True,\n",
       " 'vect__norm': 'l2',\n",
       " 'vect__ngram_range': (1, 4),\n",
       " 'vect__min_df': 2,\n",
       " 'vect__max_features': 8000,\n",
       " 'vect__max_df': 0.7,\n",
       " 'clf__min_samples_split': 5,\n",
       " 'clf__min_samples_leaf': 1,\n",
       " 'clf__max_features': 0.2,\n",
       " 'clf__max_depth': 100}"
      ]
     },
     "execution_count": 57,
     "metadata": {},
     "output_type": "execute_result"
    }
   ],
   "source": [
    "rf_random.best_params_"
   ]
  },
  {
   "cell_type": "code",
   "execution_count": 58,
   "metadata": {},
   "outputs": [
    {
     "data": {
      "text/plain": [
       "0.7309829059829059"
      ]
     },
     "execution_count": 58,
     "metadata": {},
     "output_type": "execute_result"
    }
   ],
   "source": [
    "rf_random.best_score_"
   ]
  },
  {
   "cell_type": "code",
   "execution_count": null,
   "metadata": {},
   "outputs": [],
   "source": []
  },
  {
   "cell_type": "markdown",
   "metadata": {},
   "source": [
    "#### Naive Bayes"
   ]
  },
  {
   "cell_type": "code",
   "execution_count": 85,
   "metadata": {},
   "outputs": [
    {
     "name": "stdout",
     "output_type": "stream",
     "text": [
      "Fitting 10 folds for each of 100 candidates, totalling 1000 fits\n"
     ]
    },
    {
     "name": "stderr",
     "output_type": "stream",
     "text": [
      "[Parallel(n_jobs=-1)]: Done  18 tasks      | elapsed:   11.1s\n",
      "[Parallel(n_jobs=-1)]: Done 168 tasks      | elapsed:  1.1min\n",
      "[Parallel(n_jobs=-1)]: Done 418 tasks      | elapsed:  2.6min\n",
      "[Parallel(n_jobs=-1)]: Done 768 tasks      | elapsed:  4.8min\n",
      "[Parallel(n_jobs=-1)]: Done 1000 out of 1000 | elapsed:  6.2min finished\n"
     ]
    },
    {
     "data": {
      "text/plain": [
       "RandomizedSearchCV(cv=10, error_score='raise',\n",
       "          estimator=Pipeline(memory=None,\n",
       "     steps=[('vect', TfidfVectorizer(analyzer='word', binary=False, decode_error='strict',\n",
       "        dtype=<class 'numpy.int64'>, encoding='utf-8', input='content',\n",
       "        lowercase=True, max_df=1.0, max_features=None, min_df=1,\n",
       "        ngram_range=(1, 1), norm='l2',\n",
       "        preprocessor=<function text_pr...se_idf=True, vocabulary=None)), ('clf', MultinomialNB(alpha=1.0, class_prior=None, fit_prior=True))]),\n",
       "          fit_params=None, iid=True, n_iter=100, n_jobs=-1,\n",
       "          param_distributions={'vect__min_df': [1, 2, 3, 4, 5], 'vect__max_df': [0.6, 0.7, 0.8, 0.9, 1.0], 'vect__ngram_range': [(1, 2), (1, 3), (1, 4), (2, 3), (2, 4), (2, 5)], 'vect__use_idf': (True, False), 'vect__norm': ('l1', 'l2'), 'vect__sublinear_tf': (True, False), 'clf__alpha': (1, 0.1, 0.01, 0.001, 0.0001, 1e-05)},\n",
       "          pre_dispatch='2*n_jobs', random_state=15325, refit=True,\n",
       "          return_train_score='warn', scoring='roc_auc', verbose=1)"
      ]
     },
     "execution_count": 85,
     "metadata": {},
     "output_type": "execute_result"
    }
   ],
   "source": [
    "pip_nb = Pipeline([\n",
    "    ('vect', TfidfVectorizer(preprocessor=text_process)),\n",
    "     ('clf',MultinomialNB() )])\n",
    "\n",
    "\n",
    "\n",
    "nb_param = {'vect__min_df':[1,2,3,4,5], \n",
    "           'vect__max_df':[0.6,0.7,0.8,0.9,1.0],\n",
    "           'vect__ngram_range':[(1,2),(1,3),(1,4),(2,3),(2,4),(2,5)],\n",
    "           'vect__use_idf': (True, False),\n",
    "            'vect__norm': ('l1', 'l2'),\n",
    "           'vect__sublinear_tf': (True, False),\n",
    "           'clf__alpha':(1, 0.1, 0.01, 0.001, 0.0001, 0.00001)\n",
    "              }\n",
    "\n",
    "# Use the random grid to search for best hyperparameters\n",
    "# First create the base model to tune\n",
    "\n",
    "# Random search of parameters, using 3 fold cross validation, \n",
    "# search across 100 different combinations, and use all available cores\n",
    "nb_random = RandomizedSearchCV(random_state=15325,estimator = pip_nb, param_distributions = nb_param, cv = 10,n_iter = 100,scoring='roc_auc' ,verbose=1,  n_jobs = -1)\n",
    "# Fit the random search model\n",
    "nb_random.fit(X_train, y_train)"
   ]
  },
  {
   "cell_type": "code",
   "execution_count": 86,
   "metadata": {},
   "outputs": [
    {
     "data": {
      "text/plain": [
       "0.7286324786324787"
      ]
     },
     "execution_count": 86,
     "metadata": {},
     "output_type": "execute_result"
    }
   ],
   "source": [
    "nb_random.best_score_"
   ]
  },
  {
   "cell_type": "code",
   "execution_count": 88,
   "metadata": {},
   "outputs": [
    {
     "data": {
      "text/plain": [
       "{'vect__use_idf': True,\n",
       " 'vect__sublinear_tf': False,\n",
       " 'vect__norm': 'l2',\n",
       " 'vect__ngram_range': (2, 5),\n",
       " 'vect__min_df': 1,\n",
       " 'vect__max_df': 1.0,\n",
       " 'clf__alpha': 0.0001}"
      ]
     },
     "execution_count": 88,
     "metadata": {},
     "output_type": "execute_result"
    }
   ],
   "source": [
    "nb_random.best_params_"
   ]
  },
  {
   "cell_type": "markdown",
   "metadata": {},
   "source": [
    "#### Logistic Regression"
   ]
  },
  {
   "cell_type": "code",
   "execution_count": 89,
   "metadata": {},
   "outputs": [
    {
     "name": "stdout",
     "output_type": "stream",
     "text": [
      "Fitting 10 folds for each of 100 candidates, totalling 1000 fits\n"
     ]
    },
    {
     "name": "stderr",
     "output_type": "stream",
     "text": [
      "[Parallel(n_jobs=-1)]: Done  18 tasks      | elapsed:   11.3s\n",
      "[Parallel(n_jobs=-1)]: Done 168 tasks      | elapsed:  1.1min\n",
      "[Parallel(n_jobs=-1)]: Done 418 tasks      | elapsed:  2.6min\n",
      "[Parallel(n_jobs=-1)]: Done 768 tasks      | elapsed:  4.7min\n",
      "[Parallel(n_jobs=-1)]: Done 1000 out of 1000 | elapsed:  6.1min finished\n"
     ]
    },
    {
     "data": {
      "text/plain": [
       "RandomizedSearchCV(cv=10, error_score='raise',\n",
       "          estimator=Pipeline(memory=None,\n",
       "     steps=[('vect', TfidfVectorizer(analyzer='word', binary=False, decode_error='strict',\n",
       "        dtype=<class 'numpy.int64'>, encoding='utf-8', input='content',\n",
       "        lowercase=True, max_df=1.0, max_features=None, min_df=1,\n",
       "        ngram_range=(1, 1), norm='l2',\n",
       "        preprocessor=<function text_pr...ty='l2', random_state=None, solver='liblinear', tol=0.0001,\n",
       "          verbose=0, warm_start=False))]),\n",
       "          fit_params=None, iid=True, n_iter=100, n_jobs=-1,\n",
       "          param_distributions={'vect__use_idf': (True, False), 'vect__norm': ('l1', 'l2'), 'vect__sublinear_tf': (True, False), 'vect__min_df': [1, 2, 3, 4, 5], 'vect__max_df': [0.6, 0.7, 0.8, 0.9, 1.0], 'vect__ngram_range': [(1, 2), (1, 3), (1, 4), (2, 3), (2, 4), (2, 5)], 'vect__max_features': [2000, 3000, 4000, 5000, 7000, 8000], 'clf__C': [0.001, 0.01, 0.1, 1, 10, 100, 1000], 'clf__penalty': ['l1', 'l2']},\n",
       "          pre_dispatch='2*n_jobs', random_state=15325, refit=True,\n",
       "          return_train_score='warn', scoring='roc_auc', verbose=1)"
      ]
     },
     "execution_count": 89,
     "metadata": {},
     "output_type": "execute_result"
    }
   ],
   "source": [
    "pip_lr = Pipeline([\n",
    "    ('vect', TfidfVectorizer(\n",
    "                             preprocessor=text_process, \n",
    "                             stop_words=sw,\n",
    "                             )),\n",
    "     ('clf',LogisticRegression())])\n",
    "\n",
    "\n",
    "lr_params={'vect__use_idf': (True, False),\n",
    "                'vect__norm': ('l1', 'l2'),\n",
    "               'vect__sublinear_tf': (True, False),\n",
    "               'vect__min_df':[1,2,3,4,5], \n",
    "                'vect__max_df':[0.6,0.7,0.8,0.9,1.0],\n",
    "                'vect__ngram_range':[(1,2),(1,3),(1,4),(2,3),(2,4),(2,5)],\n",
    "               'vect__max_features':[2000,3000,4000,5000,7000,8000],\n",
    "           'clf__C': [0.001, 0.01, 0.1, 1, 10, 100, 1000] ,\n",
    "              'clf__penalty':['l1','l2']}\n",
    "\n",
    "lr_random = RandomizedSearchCV(random_state=15325,estimator = pip_lr, param_distributions = lr_params, cv = 10,n_iter = 100,scoring='roc_auc' ,verbose=1,  n_jobs = -1)\n",
    "# Fit the random search model\n",
    "lr_random.fit(X_train, y_train)"
   ]
  },
  {
   "cell_type": "code",
   "execution_count": 90,
   "metadata": {},
   "outputs": [
    {
     "data": {
      "text/plain": [
       "0.7311965811965812"
      ]
     },
     "execution_count": 90,
     "metadata": {},
     "output_type": "execute_result"
    }
   ],
   "source": [
    "lr_random.best_score_"
   ]
  },
  {
   "cell_type": "code",
   "execution_count": 91,
   "metadata": {},
   "outputs": [
    {
     "data": {
      "text/plain": [
       "{'vect__use_idf': False,\n",
       " 'vect__sublinear_tf': True,\n",
       " 'vect__norm': 'l1',\n",
       " 'vect__ngram_range': (1, 2),\n",
       " 'vect__min_df': 1,\n",
       " 'vect__max_features': 5000,\n",
       " 'vect__max_df': 0.7,\n",
       " 'clf__penalty': 'l2',\n",
       " 'clf__C': 1000}"
      ]
     },
     "execution_count": 91,
     "metadata": {},
     "output_type": "execute_result"
    }
   ],
   "source": [
    "lr_random.best_params_"
   ]
  },
  {
   "cell_type": "code",
   "execution_count": null,
   "metadata": {},
   "outputs": [],
   "source": []
  },
  {
   "cell_type": "markdown",
   "metadata": {},
   "source": [
    "#### Gradient Boosting"
   ]
  },
  {
   "cell_type": "code",
   "execution_count": 59,
   "metadata": {},
   "outputs": [
    {
     "name": "stdout",
     "output_type": "stream",
     "text": [
      "1 0.5555555555555556\n",
      "5 0.5555555555555556\n",
      "10 0.5185185185185185\n",
      "15 0.5185185185185185\n",
      "25 0.5925925925925926\n",
      "50 0.5925925925925926\n",
      "100 0.5925925925925926\n",
      "150 0.5555555555555556\n",
      "200 0.5555555555555556\n",
      "250 0.5555555555555556\n",
      "300 0.5555555555555556\n",
      "500 0.5555555555555556\n",
      "700 0.5555555555555556\n",
      "1000 0.5555555555555556\n",
      "1100 0.5555555555555556\n",
      "1200 0.5555555555555556\n",
      "1300 0.5555555555555556\n"
     ]
    }
   ],
   "source": [
    "treelist=[1,5,10,15,25,50,100,150,200,250,300,500,700,1000,1100,1200,1300]\n",
    "for trees in treelist:\n",
    "# for trees in range(25,300,25):\n",
    "    regr = GradientBoostingClassifier(n_estimators=trees,random_state=42)\n",
    "    regr.fit(xtrain_tfidf, y_train)\n",
    "    print(trees, regr.score(xtest_tfidf,y_test))\n",
    "# print(rf_score)"
   ]
  },
  {
   "cell_type": "code",
   "execution_count": 60,
   "metadata": {},
   "outputs": [
    {
     "name": "stdout",
     "output_type": "stream",
     "text": [
      "Fitting 10 folds for each of 100 candidates, totalling 1000 fits\n"
     ]
    },
    {
     "name": "stderr",
     "output_type": "stream",
     "text": [
      "[Parallel(n_jobs=-1)]: Done  18 tasks      | elapsed:   12.2s\n",
      "[Parallel(n_jobs=-1)]: Done 168 tasks      | elapsed:  1.1min\n",
      "[Parallel(n_jobs=-1)]: Done 418 tasks      | elapsed:  2.7min\n",
      "[Parallel(n_jobs=-1)]: Done 768 tasks      | elapsed:  4.8min\n",
      "[Parallel(n_jobs=-1)]: Done 1000 out of 1000 | elapsed:  6.3min finished\n"
     ]
    },
    {
     "data": {
      "text/plain": [
       "RandomizedSearchCV(cv=10, error_score='raise',\n",
       "          estimator=Pipeline(memory=None,\n",
       "     steps=[('vect', TfidfVectorizer(analyzer='word', binary=False, decode_error='strict',\n",
       "        dtype=<class 'numpy.int64'>, encoding='utf-8', input='content',\n",
       "        lowercase=True, max_df=1.0, max_features=None, min_df=1,\n",
       "        ngram_range=(1, 1), norm='l2',\n",
       "        preprocessor=<function text_pr...      presort='auto', random_state=None, subsample=1.0, verbose=0,\n",
       "              warm_start=False))]),\n",
       "          fit_params=None, iid=True, n_iter=100, n_jobs=-1,\n",
       "          param_distributions={'vect__use_idf': (True, False), 'vect__norm': ('l1', 'l2'), 'vect__sublinear_tf': (True, False), 'vect__min_df': [1, 2, 3, 4, 5], 'vect__max_df': [0.6, 0.7, 0.8, 0.9, 1.0], 'vect__ngram_range': [(1, 2), (1, 3), (1, 4), (2, 3), (2, 4), (2, 5)], 'vect__max_features': [2000, 3000, ...__subsample': [0.7, 0.75, 0.8, 0.85, 0.9, 0.95, 1], 'clf__max_features': ['auto', 'sqrt', 0.2, 0.1]},\n",
       "          pre_dispatch='2*n_jobs', random_state=None, refit=True,\n",
       "          return_train_score='warn', scoring='roc_auc', verbose=1)"
      ]
     },
     "execution_count": 60,
     "metadata": {},
     "output_type": "execute_result"
    }
   ],
   "source": [
    "pip_gb = Pipeline([\n",
    "    ('vect', TfidfVectorizer(\n",
    "                             preprocessor=text_process, \n",
    "                             stop_words=sw,\n",
    "                             )),\n",
    "     ('clf',GradientBoostingClassifier(n_estimators=100) )])\n",
    "\n",
    "\n",
    "\n",
    "\n",
    "# Create the random grid\n",
    "\n",
    "\n",
    "gb_params = {'vect__use_idf': (True, False),\n",
    "                'vect__norm': ('l1', 'l2'),\n",
    "               'vect__sublinear_tf': (True, False),\n",
    "               'vect__min_df':[1,2,3,4,5], \n",
    "                'vect__max_df':[0.6,0.7,0.8,0.9,1.0],\n",
    "                'vect__ngram_range':[(1,2),(1,3),(1,4),(2,3),(2,4),(2,5)],\n",
    "               'vect__max_features':[2000,3000,4000,5000,7000,8000],\n",
    "                  'clf__learning_rate': [0.15,0.1,0.05,0.02,0.01,0.005,0.001],\n",
    "                  'clf__min_samples_split':[int(x) for x in np.linspace(2, 20, num = 2)],\n",
    "              'clf__max_depth': [int(x) for x in np.linspace(1, 15, num = 2)],\n",
    "              'clf__min_samples_leaf': [int(x) for x in np.linspace(1, 100, num = 5)],\n",
    "              'clf__subsample':[0.7,0.75,0.8,0.85,0.9,0.95,1],\n",
    "                  'clf__max_features':['auto','sqrt',0.2,0.1]\n",
    "              }\n",
    "\n",
    "# Use the random grid to search for best hyperparameters\n",
    "# First create the base model to tune\n",
    "\n",
    "# Random search of parameters, using 3 fold cross validation, \n",
    "# search across 100 different combinations, and use all available cores\n",
    "gb_random = RandomizedSearchCV(estimator = pip_gb, param_distributions = gb_params, cv = 10,n_iter = 100,scoring='roc_auc' ,verbose=1,  n_jobs = -1)\n",
    "# Fit the random search model\n",
    "gb_random.fit(X_train, y_train)"
   ]
  },
  {
   "cell_type": "code",
   "execution_count": 61,
   "metadata": {},
   "outputs": [
    {
     "data": {
      "text/plain": [
       "0.719871794871795"
      ]
     },
     "execution_count": 61,
     "metadata": {},
     "output_type": "execute_result"
    }
   ],
   "source": [
    "gb_random.best_score_"
   ]
  },
  {
   "cell_type": "code",
   "execution_count": 62,
   "metadata": {},
   "outputs": [
    {
     "data": {
      "text/plain": [
       "{'vect__use_idf': False,\n",
       " 'vect__sublinear_tf': False,\n",
       " 'vect__norm': 'l2',\n",
       " 'vect__ngram_range': (1, 2),\n",
       " 'vect__min_df': 4,\n",
       " 'vect__max_features': 4000,\n",
       " 'vect__max_df': 0.8,\n",
       " 'clf__subsample': 0.8,\n",
       " 'clf__min_samples_split': 2,\n",
       " 'clf__min_samples_leaf': 1,\n",
       " 'clf__max_features': 'sqrt',\n",
       " 'clf__max_depth': 15,\n",
       " 'clf__learning_rate': 0.005}"
      ]
     },
     "execution_count": 62,
     "metadata": {},
     "output_type": "execute_result"
    }
   ],
   "source": [
    "gb_random.best_params_"
   ]
  },
  {
   "cell_type": "code",
   "execution_count": null,
   "metadata": {},
   "outputs": [],
   "source": []
  },
  {
   "cell_type": "code",
   "execution_count": null,
   "metadata": {},
   "outputs": [],
   "source": []
  }
 ],
 "metadata": {
  "kernelspec": {
   "display_name": "Python 3",
   "language": "python",
   "name": "python3"
  },
  "language_info": {
   "codemirror_mode": {
    "name": "ipython",
    "version": 3
   },
   "file_extension": ".py",
   "mimetype": "text/x-python",
   "name": "python",
   "nbconvert_exporter": "python",
   "pygments_lexer": "ipython3",
   "version": "3.6.4"
  }
 },
 "nbformat": 4,
 "nbformat_minor": 1
}
