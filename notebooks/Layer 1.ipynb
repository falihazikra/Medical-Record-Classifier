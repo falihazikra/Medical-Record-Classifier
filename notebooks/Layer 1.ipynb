{
 "cells": [
  {
   "cell_type": "code",
   "execution_count": 1,
   "metadata": {},
   "outputs": [],
   "source": [
    "\n",
    "import numpy as np\n",
    "\n",
    "import pandas as pd\n",
    "import string\n",
    "import re\n",
    "import matplotlib.pyplot as plt\n",
    "import seaborn as sns\n",
    "import pickle\n",
    "from sklearn.externals import joblib\n",
    "\n",
    "from sklearn.feature_extraction.text import TfidfVectorizer,CountVectorizer,TfidfTransformer\n",
    "from sklearn.feature_selection import chi2\n",
    "from sklearn.linear_model import LogisticRegression\n",
    "from sklearn.model_selection import train_test_split\n",
    "from sklearn.model_selection import GridSearchCV, RandomizedSearchCV\n",
    "from sklearn.naive_bayes import MultinomialNB\n",
    "from sklearn.tree import DecisionTreeClassifier\n",
    "from sklearn.ensemble import RandomForestClassifier\n",
    "from sklearn.ensemble import GradientBoostingClassifier\n",
    "from sklearn.ensemble import AdaBoostClassifier\n",
    "\n",
    "\n",
    "from sklearn.metrics import recall_score, precision_score, f1_score, accuracy_score,confusion_matrix, roc_auc_score,roc_curve,auc\n",
    "\n",
    "from sklearn.pipeline import Pipeline"
   ]
  },
  {
   "cell_type": "code",
   "execution_count": 9,
   "metadata": {},
   "outputs": [
    {
     "name": "stdout",
     "output_type": "stream",
     "text": [
      "/Users/Faliha/Desktop/cap/Medical-Record-Classifier/code\n"
     ]
    }
   ],
   "source": [
    "cd code\n"
   ]
  },
  {
   "cell_type": "code",
   "execution_count": 10,
   "metadata": {},
   "outputs": [
    {
     "name": "stdout",
     "output_type": "stream",
     "text": [
      "1.LR-TFIDF.pkl                        Pipeline.py\r\n",
      "1.LR.pkl.                             Plot.py\r\n",
      "2.GB-TFIDF.pkl                        Train.py\r\n",
      "2.GB.pkl                              XmlToJson.py\r\n",
      "3.GB-TFIDF.pkl                        \u001b[34m__pycache__\u001b[m\u001b[m/\r\n",
      "3.GB.pkl                              demo.xml\r\n",
      "Helper.py                             smokers_surrogate_all_data copy.json\r\n",
      "Pipeline copy.py\r\n"
     ]
    }
   ],
   "source": [
    "ls"
   ]
  },
  {
   "cell_type": "markdown",
   "metadata": {},
   "source": [
    "# Data Preprocessing"
   ]
  },
  {
   "cell_type": "code",
   "execution_count": 11,
   "metadata": {},
   "outputs": [],
   "source": [
    "#converted xml to json\n",
    "df0 = pd.read_json('smokers_surrogate_all_data copy.json')"
   ]
  },
  {
   "cell_type": "code",
   "execution_count": 12,
   "metadata": {},
   "outputs": [],
   "source": [
    "df=df0.copy()"
   ]
  },
  {
   "cell_type": "code",
   "execution_count": 13,
   "metadata": {},
   "outputs": [],
   "source": [
    "#Transposing to rearrange columns\n",
    "df=df.T"
   ]
  },
  {
   "cell_type": "code",
   "execution_count": 14,
   "metadata": {},
   "outputs": [],
   "source": [
    "df=df.reset_index()"
   ]
  },
  {
   "cell_type": "code",
   "execution_count": 15,
   "metadata": {},
   "outputs": [],
   "source": [
    "#giving columns names\n",
    "df.columns = ['id', 'smoking_status','descrp']"
   ]
  },
  {
   "cell_type": "code",
   "execution_count": 16,
   "metadata": {},
   "outputs": [
    {
     "data": {
      "text/plain": [
       "UNKNOWN           315\n",
       "NON-SMOKER         82\n",
       "PAST SMOKER        47\n",
       "CURRENT SMOKER     46\n",
       "SMOKER             12\n",
       "Name: smoking_status, dtype: int64"
      ]
     },
     "execution_count": 16,
     "metadata": {},
     "output_type": "execute_result"
    }
   ],
   "source": [
    "df.smoking_status.value_counts()"
   ]
  },
  {
   "cell_type": "code",
   "execution_count": 17,
   "metadata": {},
   "outputs": [],
   "source": [
    "#merging smoker with current smoker category since smoker category has very few records\n",
    "df['smoking_status']=df['smoking_status'].replace({'SMOKER': 'CURRENT SMOKER'})"
   ]
  },
  {
   "cell_type": "markdown",
   "metadata": {},
   "source": [
    "# EDA"
   ]
  },
  {
   "cell_type": "code",
   "execution_count": 18,
   "metadata": {},
   "outputs": [
    {
     "data": {
      "image/png": "[encoded data removed]",
      "text/plain": [
       "<Figure size 576x360 with 1 Axes>"
      ]
     },
     "metadata": {},
     "output_type": "display_data"
    }
   ],
   "source": [
    "def CategoryCounts(df,column):\n",
    "    a4_dims = (8, 5)\n",
    "\n",
    "    fig, ax = plt.subplots(figsize=a4_dims)\n",
    "    sns.set(style=\"darkgrid\")\n",
    "    mx=df[column].sort_values()\n",
    "    sns.countplot(mx, data=df,order = df[column].value_counts().index)\n",
    "    plt.title(\"Number of records per smoking category\", fontsize=18)\n",
    "    plt.ylabel('# of Occurrences', fontsize=14)\n",
    "    plt.xlabel('Smoking Category', fontsize=14)\n",
    "    plt.show()\n",
    "    \n",
    "CategoryCounts(df,'smoking_status')\n"
   ]
  },
  {
   "cell_type": "code",
   "execution_count": 19,
   "metadata": {},
   "outputs": [
    {
     "data": {
      "text/plain": [
       "UNKNOWN           315\n",
       "NON-SMOKER         82\n",
       "CURRENT SMOKER     58\n",
       "PAST SMOKER        47\n",
       "Name: smoking_status, dtype: int64"
      ]
     },
     "execution_count": 19,
     "metadata": {},
     "output_type": "execute_result"
    }
   ],
   "source": [
    "#new value counts after the merge\n",
    "\n",
    "df.smoking_status.value_counts()"
   ]
  },
  {
   "cell_type": "markdown",
   "metadata": {},
   "source": [
    "### Stop Words"
   ]
  },
  {
   "cell_type": "code",
   "execution_count": 20,
   "metadata": {},
   "outputs": [],
   "source": [
    "# added own stop words along with the standard list\n",
    "sw=['summaryunsigneddisreport','amed','date','patient','mm', 'st','amdischarge','doctor', 'hospital',\n",
    "    'surgery','pain','problem','discharge','admission','i', 'me', 'my', 'myself', 'we', 'our', 'ours', 'ourselves',\n",
    "    'you', \"you're\", \"you've\", \"you'll\", \"you'd\", 'your', 'yours', 'yourself', 'yourselves', 'he', 'him', 'his', \n",
    "    'himself', 'she', \"she's\", 'her', 'hers', 'herself', 'it', \"it's\", 'its', 'itself', 'they', 'them', 'their', \n",
    "    'theirs', 'themselves', 'what', 'which', 'who', 'whom', 'this', 'that', \"that'll\", 'these', 'those', 'am','be',\n",
    "    'a', 'an', 'the', 'and', 'but', 'if', 'or', 'because', 'as', 'of', 'at', 'by', 'for', 'about', 'against', \n",
    "    'between', 'into', 'through', 'above', 'below', 'to', 'from', 'up', 'down', 'in', 'out', 'on', 'off', 'over',\n",
    "    'under', 'further', 'here', 'there', 'when', 'where', 'why', 'how', 'all', 'any', 'both', 'each', 'more', \n",
    "    'most', 'other', 'some', 'such', 'own', 'same', 'so', 'than', 'too', 'very', 's', 't', 'just', 'don', \"don't\",\n",
    "    'should', \"should've\", 'd', 'll', 'm', 'o', 're', 've', 'y', 'ain', 'aren', \"aren't\", 'couldn', \"couldn't\",\n",
    "    'ma', 'needn', \"needn't\", 'shan', \"shan't\", 'shouldn', \"shouldn't\", 'won', \"won't\", 'wouldn', \"wouldn't\"\n",
    "    'aboard','about','above','across','along','an','and','another','any','around','as','at','below','behind','below'\n",
    "    ,'beneath','beside','beyond','certain','down','during','each','following','for','from','inside','into','its',\n",
    "    'like','minus','my','near','next','opposite','outside','out','over','plus','round','so','some','than','through',\n",
    "    'toward','underneath','unlike','yet','under','unsigneded','yregistration']\n"
   ]
  },
  {
   "cell_type": "markdown",
   "metadata": {},
   "source": [
    "### Text processing"
   ]
  },
  {
   "cell_type": "code",
   "execution_count": 21,
   "metadata": {},
   "outputs": [],
   "source": [
    " def text_process(description):\n",
    "        # remove punctuations\n",
    "    nopunc=[char for char in description if char not in string.punctuation]\n",
    "    nopunc=''.join(nopunc)\n",
    "    # remove numbers from the words\n",
    "    splitnum  = re.split('(\\d+)',nopunc)\n",
    "    splitnum=' '.join(splitnum)\n",
    "    # remove numbers within the words\n",
    "    new=re.sub(\" \\d+\", \" \", splitnum)\n",
    "    \n",
    "    # remove the stop words \n",
    "    swtext= [word.lower() for word in new.split() if word not in [x.upper() for x in sw]]\n",
    "    text=' '.join(swtext)\n",
    "    return text\n",
    "\n",
    "# use apply function to apply to the whole df"
   ]
  },
  {
   "cell_type": "markdown",
   "metadata": {},
   "source": [
    "### Correlated uni and bi grams"
   ]
  },
  {
   "cell_type": "code",
   "execution_count": 44,
   "metadata": {},
   "outputs": [],
   "source": [
    "#changing status into number categories \n",
    "df['smoking_cat'] = df['smoking_status'].factorize()[0]\n",
    "category_id_df = df[['smoking_status', 'smoking_cat']].drop_duplicates().sort_values('smoking_cat')\n",
    "category_to_id = dict(category_id_df.values)"
   ]
  },
  {
   "cell_type": "code",
   "execution_count": 45,
   "metadata": {},
   "outputs": [
    {
     "data": {
      "text/plain": [
       "(502, 26970)"
      ]
     },
     "execution_count": 45,
     "metadata": {},
     "output_type": "execute_result"
    }
   ],
   "source": [
    "tfidf = TfidfVectorizer(sublinear_tf=True, min_df=2, norm='l2', encoding='latin-1', ngram_range=(1, 2),\n",
    "                        preprocessor=text_process,stop_words=sw, max_df=0.8)\n",
    "features = tfidf.fit_transform(df.descrp).toarray()\n",
    "labels = df.smoking_cat\n",
    "features.shape"
   ]
  },
  {
   "cell_type": "code",
   "execution_count": 46,
   "metadata": {},
   "outputs": [
    {
     "name": "stdout",
     "output_type": "stream",
     "text": [
      "# 'CURRENT SMOKER':\n",
      "  . Most correlated unigrams:\n",
      ". smoker\n",
      ". smokes\n",
      ". smoking\n",
      "  . Most correlated bigrams:\n",
      ". smoking cessation\n",
      ". pm scheduled\n",
      ". smoking history\n",
      "---------------------------\n",
      "# 'NON-SMOKER':\n",
      "  . Most correlated unigrams:\n",
      ". naeelv\n",
      ". tobacco\n",
      ". smoke\n",
      "  . Most correlated bigrams:\n",
      ". denies tobacco\n",
      ". history denies\n",
      ". not smoke\n",
      "---------------------------\n",
      "# 'PAST SMOKER':\n",
      "  . Most correlated unigrams:\n",
      ". smoked\n",
      ". painless\n",
      ". quit\n",
      "  . Most correlated bigrams:\n",
      ". per history\n",
      ". painless jaundice\n",
      ". history quit\n",
      "---------------------------\n",
      "# 'UNKNOWN':\n",
      "  . Most correlated unigrams:\n",
      ". preliminary\n",
      ". information\n",
      ". smoking\n",
      "  . Most correlated bigrams:\n",
      ". please call\n",
      ". pcp name\n",
      ". social history\n",
      "---------------------------\n"
     ]
    }
   ],
   "source": [
    "\n",
    "N = 3\n",
    "for smoking_status, smoking_cat in sorted(category_to_id.items()):\n",
    "    features_chi2 = chi2(features, labels == smoking_cat)\n",
    "    indices = np.argsort(features_chi2[0])\n",
    "    feature_names = np.array(tfidf.get_feature_names())[indices]\n",
    "    unigrams = [v for v in feature_names if len(v.split(' ')) == 1]\n",
    "    bigrams = [v for v in feature_names if len(v.split(' ')) == 2]\n",
    "    print(\"# '{}':\".format(smoking_status))\n",
    "    print(\"  . Most correlated unigrams:\\n. {}\".format('\\n. '.join(unigrams[-N:])))\n",
    "    print(\"  . Most correlated bigrams:\\n. {}\".format('\\n. '.join(bigrams[-N:])))\n",
    "    print('---------------------------')\n",
    "    \n",
    "    "
   ]
  },
  {
   "cell_type": "markdown",
   "metadata": {},
   "source": [
    "# Classification -Level 1"
   ]
  },
  {
   "cell_type": "code",
   "execution_count": 28,
   "metadata": {},
   "outputs": [],
   "source": [
    "# seperating records based on unknown and known smoking related text status\n",
    "def unknown(column):\n",
    "    if 'UNKNOWN' in column :\n",
    "        return 1\n",
    "\n",
    "    else: return 0\n",
    "\n",
    "df[\"smoking_unknown\"] = df[\"smoking_status\"].apply(unknown)"
   ]
  },
  {
   "cell_type": "code",
   "execution_count": 29,
   "metadata": {},
   "outputs": [
    {
     "data": {
      "text/plain": [
       "1    315\n",
       "0    187\n",
       "Name: smoking_unknown, dtype: int64"
      ]
     },
     "execution_count": 29,
     "metadata": {},
     "output_type": "execute_result"
    }
   ],
   "source": [
    "df.smoking_unknown.value_counts()"
   ]
  },
  {
   "cell_type": "markdown",
   "metadata": {},
   "source": [
    "## Modeling"
   ]
  },
  {
   "cell_type": "code",
   "execution_count": 30,
   "metadata": {},
   "outputs": [],
   "source": [
    "def train_model(classifier, feature_vector_train, label, feature_vector_test, test_label):\n",
    "    # fit the training dataset on the classifier\n",
    "    classifier.fit(feature_vector_train, label)\n",
    "    \n",
    "    # predict the labels on validation dataset\n",
    "    predictions = classifier.predict(feature_vector_test)\n",
    "    \n",
    "    # get the predicted probabilty of one class \n",
    "    prob=classifier.predict_proba(feature_vector_test)\n",
    "    pred=prob[:,1]\n",
    "    \n",
    "    # output the results\n",
    "    print (\"{} \".format(classifier))\n",
    "    print ('Accuracy:',accuracy_score(predictions, test_label))\n",
    "    print ('Recall:',recall_score(predictions, test_label),)\n",
    "    print ('Precision:',precision_score(predictions, test_label))\n",
    "    print ('F1:',f1_score(predictions, test_label))\n",
    "    print ('ROC:',roc_auc_score(test_label,pred))\n",
    "    print ('CM:',confusion_matrix(predictions, test_label))\n",
    "    \n",
    "    \n",
    "    return classifier,accuracy_score(predictions, test_label), recall_score(predictions, test_label),precision_score(predictions, test_label), f1_score(predictions, test_label),roc_auc_score(test_label,pred), confusion_matrix(predictions, test_label),pred\n",
    "\n"
   ]
  },
  {
   "cell_type": "code",
   "execution_count": 31,
   "metadata": {},
   "outputs": [],
   "source": [
    "def plot_confusion_matrix(cm):\n",
    "    print(cm)\n",
    "\n",
    "    # Show confusion matrix in a separate window\n",
    "    fig, ax = plt.subplots(figsize=(4,4))\n",
    "    sns.heatmap(cm, annot=True, fmt='d',xticklabels=['Known','Unknown'],yticklabels=['Known','Unknown'])\n",
    "    plt.title('Confusion matrix')\n",
    "    \n",
    "    plt.ylabel('True label')\n",
    "    plt.xlabel('Predicted label')\n",
    "    plt.show()"
   ]
  },
  {
   "cell_type": "code",
   "execution_count": 32,
   "metadata": {},
   "outputs": [],
   "source": [
    "X  = df['descrp']\n",
    "y = df['smoking_unknown']"
   ]
  },
  {
   "cell_type": "code",
   "execution_count": 33,
   "metadata": {},
   "outputs": [],
   "source": [
    "X_train,  X_test,  y_train, y_test  =  train_test_split(X,y,test_size=0.25, random_state=42)"
   ]
  },
  {
   "cell_type": "markdown",
   "metadata": {},
   "source": [
    "#### Random Forest"
   ]
  },
  {
   "cell_type": "code",
   "execution_count": 30,
   "metadata": {},
   "outputs": [],
   "source": [
    "# Tfidf vec for RF\n",
    "\n",
    "tfidf_vect = TfidfVectorizer(use_idf= False,norm= 'l2',preprocessor=text_process,ngram_range= (1, 3),\n",
    "                             min_df= 5,max_features= 2000,max_df=0.9)\n",
    "\n",
    "\n",
    "tfidf_vect.fit(X_train)\n",
    "xtrain_tfidf =  tfidf_vect.transform(X_train)\n",
    "xtest_tfidf =  tfidf_vect.transform(X_test)\n"
   ]
  },
  {
   "cell_type": "code",
   "execution_count": 31,
   "metadata": {},
   "outputs": [
    {
     "data": {
      "text/plain": [
       "2000"
      ]
     },
     "execution_count": 31,
     "metadata": {},
     "output_type": "execute_result"
    }
   ],
   "source": [
    "len(tfidf_vect.vocabulary_)"
   ]
  },
  {
   "cell_type": "code",
   "execution_count": 32,
   "metadata": {},
   "outputs": [
    {
     "name": "stdout",
     "output_type": "stream",
     "text": [
      "RandomForestClassifier(bootstrap=True, class_weight=None, criterion='gini',\n",
      "            max_depth=50, max_features=0.2, max_leaf_nodes=None,\n",
      "            min_impurity_decrease=0.0, min_impurity_split=None,\n",
      "            min_samples_leaf=1, min_samples_split=5,\n",
      "            min_weight_fraction_leaf=0.0, n_estimators=266, n_jobs=1,\n",
      "            oob_score=False, random_state=1, verbose=0, warm_start=False) \n",
      "Accuracy: 0.9047619047619048\n",
      "Recall: 0.9540229885057471\n",
      "Precision: 0.9120879120879121\n",
      "F1: 0.9325842696629213\n",
      "ROC: 0.9544740973312402\n",
      "CM: [[31  8]\n",
      " [ 4 83]]\n"
     ]
    }
   ],
   "source": [
    "rf,accuracy_rf, recall_rf, precision_rf, f1_rf,roc_rf, cm_rf,pred_rf = train_model(RandomForestClassifier\n",
    "                                            (n_estimators= 266,min_samples_split=5,min_samples_leaf= 1,\n",
    "                                             random_state=1,max_features =0.2,max_depth= 50), \n",
    "                                                                        xtrain_tfidf, y_train, xtest_tfidf,y_test)\n"
   ]
  },
  {
   "cell_type": "code",
   "execution_count": 33,
   "metadata": {},
   "outputs": [
    {
     "name": "stdout",
     "output_type": "stream",
     "text": [
      "[[31  8]\n",
      " [ 4 83]]\n"
     ]
    },
    {
     "data": {
      "image/png": "[encoded data removed]",
      "text/plain": [
       "<Figure size 288x288 with 2 Axes>"
      ]
     },
     "metadata": {},
     "output_type": "display_data"
    }
   ],
   "source": [
    "plot_confusion_matrix(cm_rf)"
   ]
  },
  {
   "cell_type": "markdown",
   "metadata": {},
   "source": [
    "#### Naive Bayes"
   ]
  },
  {
   "cell_type": "code",
   "execution_count": 34,
   "metadata": {},
   "outputs": [],
   "source": [
    "# Tfidf vec for NB\n",
    "\n",
    "tfidf_vect = TfidfVectorizer(use_idf= True,norm= 'l2',preprocessor=text_process,ngram_range= (1, 2),\n",
    "                             min_df= 2,max_df=0.8)\n",
    "tfidf_vect.fit(X_train)\n",
    "xtrain_tfidf =  tfidf_vect.transform(X_train)\n",
    "xtest_tfidf =  tfidf_vect.transform(X_test)"
   ]
  },
  {
   "cell_type": "code",
   "execution_count": 35,
   "metadata": {},
   "outputs": [
    {
     "name": "stdout",
     "output_type": "stream",
     "text": [
      "MultinomialNB(alpha=0.1, class_prior=None, fit_prior=True) \n",
      "Accuracy: 0.7222222222222222\n",
      "Recall: 0.9117647058823529\n",
      "Precision: 0.6813186813186813\n",
      "F1: 0.7798742138364779\n",
      "ROC: 0.8178963893249607\n",
      "CM: [[29 29]\n",
      " [ 6 62]]\n"
     ]
    }
   ],
   "source": [
    "nb,accuracy_nb, recall_nb, precision_nb, f1_nb,roc_nb,cm_nb,pred_nb = train_model(MultinomialNB(alpha=0.1),\n",
    "                                                                       xtrain_tfidf, y_train, xtest_tfidf,y_test)\n"
   ]
  },
  {
   "cell_type": "code",
   "execution_count": 36,
   "metadata": {},
   "outputs": [
    {
     "name": "stdout",
     "output_type": "stream",
     "text": [
      "[[29 29]\n",
      " [ 6 62]]\n"
     ]
    },
    {
     "data": {
      "image/png": "[encoded data removed]",
      "text/plain": [
       "<Figure size 288x288 with 2 Axes>"
      ]
     },
     "metadata": {},
     "output_type": "display_data"
    }
   ],
   "source": [
    "plot_confusion_matrix(cm_nb)"
   ]
  },
  {
   "cell_type": "markdown",
   "metadata": {},
   "source": [
    "#### Logistic Regression"
   ]
  },
  {
   "cell_type": "code",
   "execution_count": 47,
   "metadata": {},
   "outputs": [],
   "source": [
    "# Tfidf vec for LR\n",
    "tfidf_vect = TfidfVectorizer(use_idf= True,sublinear_tf= True,norm= 'l2',preprocessor=text_process,\n",
    "                             ngram_range= (1, 3),min_df= 4,max_features=3000,max_df=0.9)\n",
    "tfidf_vect.fit(X_train)\n",
    "xtrain_tfidf =  tfidf_vect.transform(X_train)\n",
    "xtest_tfidf =  tfidf_vect.transform(X_test)\n"
   ]
  },
  {
   "cell_type": "code",
   "execution_count": 48,
   "metadata": {},
   "outputs": [
    {
     "name": "stdout",
     "output_type": "stream",
     "text": [
      "LogisticRegression(C=1000, class_weight=None, dual=False, fit_intercept=True,\n",
      "          intercept_scaling=1, max_iter=100, multi_class='ovr', n_jobs=1,\n",
      "          penalty='l1', random_state=15325, solver='liblinear', tol=0.0001,\n",
      "          verbose=0, warm_start=False) \n",
      "Accuracy: 0.9365079365079365\n",
      "Recall: 0.9770114942528736\n",
      "Precision: 0.9340659340659341\n",
      "F1: 0.9550561797752809\n",
      "ROC: 0.9821036106750392\n",
      "CM: [[33  6]\n",
      " [ 2 85]]\n"
     ]
    }
   ],
   "source": [
    "lr,accuracy_lr, recall_lr, precision_lr, f1_lr,roc_lr,cm_lr,pred_lr=train_model(LogisticRegression(random_state=15325,penalty='l1',C=1000),xtrain_tfidf, y_train, xtest_tfidf,y_test)\n",
    "\n"
   ]
  },
  {
   "cell_type": "code",
   "execution_count": 39,
   "metadata": {},
   "outputs": [
    {
     "name": "stdout",
     "output_type": "stream",
     "text": [
      "[[33  6]\n",
      " [ 2 85]]\n"
     ]
    },
    {
     "data": {
      "image/png": "[encoded data removed]",
      "text/plain": [
       "<Figure size 288x288 with 2 Axes>"
      ]
     },
     "metadata": {},
     "output_type": "display_data"
    }
   ],
   "source": [
    "plot_confusion_matrix(cm_lr)"
   ]
  },
  {
   "cell_type": "markdown",
   "metadata": {},
   "source": [
    "#### Gradient Boosting"
   ]
  },
  {
   "cell_type": "code",
   "execution_count": 40,
   "metadata": {},
   "outputs": [],
   "source": [
    "# Tfidf vec for GB\n",
    "tfidf_vect = TfidfVectorizer(use_idf= False,sublinear_tf= True,norm= 'l1',preprocessor=text_process,\n",
    "                             ngram_range= (1, 2),min_df= 3,max_features=7000,max_df=0.8)\n",
    "tfidf_vect.fit(X_train)\n",
    "xtrain_tfidf =  tfidf_vect.transform(X_train)\n",
    "xtest_tfidf =  tfidf_vect.transform(X_test)\n"
   ]
  },
  {
   "cell_type": "code",
   "execution_count": 41,
   "metadata": {},
   "outputs": [
    {
     "name": "stdout",
     "output_type": "stream",
     "text": [
      "GradientBoostingClassifier(criterion='friedman_mse', init=None,\n",
      "              learning_rate=0.05, loss='deviance', max_depth=1,\n",
      "              max_features='auto', max_leaf_nodes=None,\n",
      "              min_impurity_decrease=0.0, min_impurity_split=None,\n",
      "              min_samples_leaf=1, min_samples_split=20,\n",
      "              min_weight_fraction_leaf=0.0, n_estimators=100,\n",
      "              presort='auto', random_state=15325, subsample=1.0, verbose=0,\n",
      "              warm_start=False) \n",
      "Accuracy: 0.9523809523809523\n",
      "Recall: 0.956989247311828\n",
      "Precision: 0.978021978021978\n",
      "F1: 0.967391304347826\n",
      "ROC: 0.9819466248037676\n",
      "CM: [[31  2]\n",
      " [ 4 89]]\n"
     ]
    }
   ],
   "source": [
    "gb,accuracy_gb, recall_gb, precision_gb, f1_gb,roc_gb,cm_gb,pred_gb=train_model(GradientBoostingClassifier(min_samples_leaf= 1,\n",
    "                                 min_samples_split= 20,max_features= 'auto',max_depth=1, learning_rate= 0.05,n_estimators=100,random_state=15325),\n",
    "            xtrain_tfidf, y_train, xtest_tfidf,y_test)\n"
   ]
  },
  {
   "cell_type": "code",
   "execution_count": 42,
   "metadata": {},
   "outputs": [
    {
     "name": "stdout",
     "output_type": "stream",
     "text": [
      "[[31  2]\n",
      " [ 4 89]]\n"
     ]
    },
    {
     "data": {
      "image/png": "[encoded data removed]",
      "text/plain": [
       "<Figure size 288x288 with 2 Axes>"
      ]
     },
     "metadata": {},
     "output_type": "display_data"
    }
   ],
   "source": [
    "plot_confusion_matrix(cm_gb)"
   ]
  },
  {
   "cell_type": "markdown",
   "metadata": {},
   "source": [
    "#### ROC CURVE"
   ]
  },
  {
   "cell_type": "code",
   "execution_count": 43,
   "metadata": {},
   "outputs": [
    {
     "data": {
      "text/plain": [
       "<Figure size 432x288 with 0 Axes>"
      ]
     },
     "metadata": {},
     "output_type": "display_data"
    },
    {
     "data": {
      "image/png": "[encoded data removed]",
      "text/plain": [
       "<Figure size 576x432 with 1 Axes>"
      ]
     },
     "metadata": {},
     "output_type": "display_data"
    }
   ],
   "source": [
    "plt.figure(0).clf()\n",
    "fig, ax = plt.subplots(figsize=(8,6))\n",
    "plt.title('Receiver Operating Characteristic',fontsize=18)\n",
    "#ax.set_facecolor('lightpink')\n",
    "\n",
    "\n",
    "fpr, tpr, thresh = roc_curve(y_test, pred_nb)\n",
    "auc = roc_auc_score(y_test, pred_nb)\n",
    "plt.plot(fpr,tpr,'gray',label=\"NB, auc=\"+str(round(auc, 2)))\n",
    "\n",
    "\n",
    "\n",
    "fpr, tpr, thresh = roc_curve(y_test, pred_rf)\n",
    "auc = roc_auc_score(y_test, pred_rf)\n",
    "plt.plot(fpr,tpr,'black',label=\"RF, auc=\"+str(round(auc, 2)))\n",
    "\n",
    "\n",
    "\n",
    "fpr, tpr, thresh = roc_curve(y_test, pred_gb)\n",
    "auc = roc_auc_score(y_test, pred_gb)\n",
    "plt.plot(fpr,tpr,'blue',label=\"GB, auc=\"+str(round(auc, 2)))\n",
    "\n",
    "fpr, tpr, thresh = roc_curve(y_test, pred_lr)\n",
    "auc = roc_auc_score(y_test, pred_lr)\n",
    "plt.plot(fpr,tpr,'coral',label=\"LR, auc=\"+str(round(auc, 2)))\n",
    "\n",
    "\n",
    "plt.legend(loc = 'lower right',fontsize=14)\n",
    "plt.ylabel('True Positive Rate', fontsize=14)\n",
    "plt.xlabel('False Positive Rate',fontsize=14)\n",
    "\n",
    "plt.show()\n",
    "fig.savefig('layer1roc.jpg')\n"
   ]
  },
  {
   "cell_type": "markdown",
   "metadata": {},
   "source": [
    "Different models were optimised using random search. Hence each model had a different tfidf vector which help tune the hyper parameters."
   ]
  }
 ],
 "metadata": {
  "kernelspec": {
   "display_name": "Python 3",
   "language": "python",
   "name": "python3"
  },
  "language_info": {
   "codemirror_mode": {
    "name": "ipython",
    "version": 3
   },
   "file_extension": ".py",
   "mimetype": "text/x-python",
   "name": "python",
   "nbconvert_exporter": "python",
   "pygments_lexer": "ipython3",
   "version": "3.6.5"
  }
 },
 "nbformat": 4,
 "nbformat_minor": 1
}
