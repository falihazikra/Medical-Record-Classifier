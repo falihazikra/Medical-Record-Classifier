{
 "cells": [
  {
   "cell_type": "code",
   "execution_count": 41,
   "metadata": {},
   "outputs": [],
   "source": [
    "import numpy as np\n",
    "import pandas as pd\n",
    "import string\n",
    "import re\n",
    "import matplotlib.pyplot as plt\n",
    "import seaborn as sns\n",
    "import pickle\n",
    "from sklearn.externals import joblib\n",
    "\n",
    "from sklearn.feature_extraction.text import TfidfVectorizer,CountVectorizer,TfidfTransformer\n",
    "from sklearn.feature_selection import chi2\n",
    "from sklearn.linear_model import LogisticRegression\n",
    "from sklearn.model_selection import train_test_split\n",
    "from sklearn.model_selection import GridSearchCV, RandomizedSearchCV\n",
    "from sklearn.naive_bayes import MultinomialNB\n",
    "from sklearn.tree import DecisionTreeClassifier\n",
    "from sklearn.ensemble import RandomForestClassifier\n",
    "from sklearn.ensemble import GradientBoostingClassifier\n",
    "from sklearn.ensemble import AdaBoostClassifier\n",
    "\n",
    "\n",
    "from sklearn.metrics import recall_score, precision_score, f1_score, accuracy_score,confusion_matrix, roc_auc_score,roc_curve,auc\n",
    "\n",
    "from sklearn.pipeline import Pipeline"
   ]
  },
  {
   "cell_type": "code",
   "execution_count": 43,
   "metadata": {},
   "outputs": [
    {
     "name": "stdout",
     "output_type": "stream",
     "text": [
      "/Users/Faliha/Desktop/capstone\n"
     ]
    }
   ],
   "source": [
    "cd capstone"
   ]
  },
  {
   "cell_type": "markdown",
   "metadata": {},
   "source": [
    "# EDA"
   ]
  },
  {
   "cell_type": "markdown",
   "metadata": {},
   "source": [
    "** See Layer 1  and 2 for the classification of the pervious two layers**"
   ]
  },
  {
   "cell_type": "code",
   "execution_count": 44,
   "metadata": {},
   "outputs": [],
   "source": [
    "#converted xml to json\n",
    "df0 = pd.read_json('smokers_surrogate_all_data copy.json')"
   ]
  },
  {
   "cell_type": "code",
   "execution_count": 45,
   "metadata": {},
   "outputs": [],
   "source": [
    "df=df0.copy()"
   ]
  },
  {
   "cell_type": "code",
   "execution_count": 46,
   "metadata": {},
   "outputs": [],
   "source": [
    "#Transposing to rearrange columns\n",
    "df=df.T"
   ]
  },
  {
   "cell_type": "code",
   "execution_count": 47,
   "metadata": {},
   "outputs": [],
   "source": [
    "df=df.reset_index()"
   ]
  },
  {
   "cell_type": "code",
   "execution_count": 48,
   "metadata": {},
   "outputs": [],
   "source": [
    "#giving columns names\n",
    "df.columns = ['id', 'smoking_status','descrp']"
   ]
  },
  {
   "cell_type": "code",
   "execution_count": 49,
   "metadata": {},
   "outputs": [],
   "source": [
    "sw=['summaryunsigneddisreport','yregistration','amed','date','patient','mm', 'st','amdischarge','doctor', 'hospital',\n",
    "    'surgery','pain','problem','discharge','admission','i', 'me', 'my', 'myself', 'we', 'our', 'ours', 'ourselves',\n",
    "    'you', \"you're\", \"you've\", \"you'll\", \"you'd\", 'your', 'yours', 'yourself', 'yourselves', 'he', 'him', 'his', \n",
    "    'himself', 'she', \"she's\", 'her', 'hers', 'herself', 'it', \"it's\", 'its', 'itself', 'they', 'them', 'their', \n",
    "    'theirs', 'themselves', 'what', 'which', 'who', 'whom', 'this', 'that', \"that'll\", 'these', 'those', 'am','be',\n",
    "    'a', 'an', 'the', 'and', 'but', 'if', 'or', 'because', 'as', 'of', 'at', 'by', 'for', 'about', 'against', \n",
    "    'between', 'into', 'through', 'above', 'below', 'to', 'from', 'up', 'down', 'in', 'out', 'on', 'off', 'over',\n",
    "    'under', 'further', 'here', 'there', 'when', 'where', 'why', 'how', 'all', 'any', 'both', 'each', 'more', \n",
    "    'most', 'other', 'some', 'such', 'own', 'same', 'so', 'than', 'too', 'very', 's', 't', 'just', 'don', \"don't\",\n",
    "    'should', \"should've\", 'd', 'll', 'm', 'o', 're', 've', 'y', 'ain', 'aren', \"aren't\", 'couldn', \"couldn't\",\n",
    "    'ma', 'needn', \"needn't\", 'shan', \"shan't\", 'shouldn', \"shouldn't\", 'won', \"won't\", 'wouldn', \"wouldn't\"\n",
    "    'aboard','about','above','across','along','an','and','another','any','around','as','at','below','behind','below'\n",
    "    ,'beneath','beside','beyond','certain','down','during','each','following','for','from','inside','into','its',\n",
    "    'like','minus','my','near','next','opposite','outside','out','over','plus','round','so','some','than','through',\n",
    "    'toward','underneath','unlike','yet','under','unsigneded']\n"
   ]
  },
  {
   "cell_type": "code",
   "execution_count": 50,
   "metadata": {},
   "outputs": [],
   "source": [
    "def text_process(description):\n",
    "    \n",
    "    \n",
    "        \n",
    "    nopunc=[char for char in description if char not in string.punctuation]\n",
    "    \n",
    "    nopunc=''.join(nopunc)\n",
    "    \n",
    "    splitnum  = re.split('(\\d+)',nopunc)\n",
    "    splitnum=' '.join(splitnum)\n",
    "    new=re.sub(\" \\d+\", \" \", splitnum)\n",
    " \n",
    "    \n",
    "    \n",
    "    swtext= [word.lower() for word in new.split() if word not in [x.upper() for x in sw]]\n",
    "    \n",
    "    return ' '.join(swtext)\n"
   ]
  },
  {
   "cell_type": "markdown",
   "metadata": {},
   "source": [
    "# Classification -Level 1"
   ]
  },
  {
   "cell_type": "code",
   "execution_count": 51,
   "metadata": {},
   "outputs": [],
   "source": [
    "# seperating records based on unknown and known smoking related text status\n",
    "def unknown(column):\n",
    "    if 'UNKNOWN' in column :\n",
    "        return 1\n",
    "\n",
    "    else: return 0\n",
    "\n",
    "df[\"smoking_unknown\"] = df[\"smoking_status\"].apply(unknown)"
   ]
  },
  {
   "cell_type": "code",
   "execution_count": 52,
   "metadata": {},
   "outputs": [
    {
     "data": {
      "text/html": [
       "<div>\n",
       "<style scoped>\n",
       "    .dataframe tbody tr th:only-of-type {\n",
       "        vertical-align: middle;\n",
       "    }\n",
       "\n",
       "    .dataframe tbody tr th {\n",
       "        vertical-align: top;\n",
       "    }\n",
       "\n",
       "    .dataframe thead th {\n",
       "        text-align: right;\n",
       "    }\n",
       "</style>\n",
       "<table border=\"1\" class=\"dataframe\">\n",
       "  <thead>\n",
       "    <tr style=\"text-align: right;\">\n",
       "      <th></th>\n",
       "      <th>id</th>\n",
       "      <th>smoking_status</th>\n",
       "      <th>descrp</th>\n",
       "      <th>smoking_unknown</th>\n",
       "    </tr>\n",
       "  </thead>\n",
       "  <tbody>\n",
       "    <tr>\n",
       "      <th>0</th>\n",
       "      <td>667</td>\n",
       "      <td>UNKNOWN</td>\n",
       "      <td>763970014CMC8590556704/21/1994 12:00:00 AMDisc...</td>\n",
       "      <td>1</td>\n",
       "    </tr>\n",
       "    <tr>\n",
       "      <th>1</th>\n",
       "      <td>666</td>\n",
       "      <td>UNKNOWN</td>\n",
       "      <td>220536305CMC8286358010/8/1994 12:00:00 AMDisch...</td>\n",
       "      <td>1</td>\n",
       "    </tr>\n",
       "    <tr>\n",
       "      <th>2</th>\n",
       "      <td>665</td>\n",
       "      <td>UNKNOWN</td>\n",
       "      <td>082738817CMC191536296/3/1993 12:00:00 AMDischa...</td>\n",
       "      <td>1</td>\n",
       "    </tr>\n",
       "    <tr>\n",
       "      <th>3</th>\n",
       "      <td>663</td>\n",
       "      <td>NON-SMOKER</td>\n",
       "      <td>498710998CMC1417244504/29/1992 12:00:00 AMDisc...</td>\n",
       "      <td>0</td>\n",
       "    </tr>\n",
       "    <tr>\n",
       "      <th>4</th>\n",
       "      <td>662</td>\n",
       "      <td>UNKNOWN</td>\n",
       "      <td>244815666HLGMC444992302133/2wwh3/3/1994 12:00:...</td>\n",
       "      <td>1</td>\n",
       "    </tr>\n",
       "  </tbody>\n",
       "</table>\n",
       "</div>"
      ],
      "text/plain": [
       "    id smoking_status                                             descrp  \\\n",
       "0  667        UNKNOWN  763970014CMC8590556704/21/1994 12:00:00 AMDisc...   \n",
       "1  666        UNKNOWN  220536305CMC8286358010/8/1994 12:00:00 AMDisch...   \n",
       "2  665        UNKNOWN  082738817CMC191536296/3/1993 12:00:00 AMDischa...   \n",
       "3  663     NON-SMOKER  498710998CMC1417244504/29/1992 12:00:00 AMDisc...   \n",
       "4  662        UNKNOWN  244815666HLGMC444992302133/2wwh3/3/1994 12:00:...   \n",
       "\n",
       "   smoking_unknown  \n",
       "0                1  \n",
       "1                1  \n",
       "2                1  \n",
       "3                0  \n",
       "4                1  "
      ]
     },
     "execution_count": 52,
     "metadata": {},
     "output_type": "execute_result"
    }
   ],
   "source": [
    "df.head()"
   ]
  },
  {
   "cell_type": "code",
   "execution_count": 53,
   "metadata": {},
   "outputs": [
    {
     "data": {
      "text/plain": [
       "1    315\n",
       "0    187\n",
       "Name: smoking_unknown, dtype: int64"
      ]
     },
     "execution_count": 53,
     "metadata": {},
     "output_type": "execute_result"
    }
   ],
   "source": [
    "df.smoking_unknown.value_counts()"
   ]
  },
  {
   "cell_type": "markdown",
   "metadata": {},
   "source": [
    "# Classification- Level 2"
   ]
  },
  {
   "cell_type": "code",
   "execution_count": 54,
   "metadata": {},
   "outputs": [],
   "source": [
    "df1=df.copy()"
   ]
  },
  {
   "cell_type": "code",
   "execution_count": 55,
   "metadata": {},
   "outputs": [],
   "source": [
    "secondf=df1[df1.smoking_unknown==0]"
   ]
  },
  {
   "cell_type": "code",
   "execution_count": 56,
   "metadata": {},
   "outputs": [
    {
     "data": {
      "text/html": [
       "<div>\n",
       "<style scoped>\n",
       "    .dataframe tbody tr th:only-of-type {\n",
       "        vertical-align: middle;\n",
       "    }\n",
       "\n",
       "    .dataframe tbody tr th {\n",
       "        vertical-align: top;\n",
       "    }\n",
       "\n",
       "    .dataframe thead th {\n",
       "        text-align: right;\n",
       "    }\n",
       "</style>\n",
       "<table border=\"1\" class=\"dataframe\">\n",
       "  <thead>\n",
       "    <tr style=\"text-align: right;\">\n",
       "      <th></th>\n",
       "      <th>id</th>\n",
       "      <th>smoking_status</th>\n",
       "      <th>descrp</th>\n",
       "      <th>smoking_unknown</th>\n",
       "    </tr>\n",
       "  </thead>\n",
       "  <tbody>\n",
       "    <tr>\n",
       "      <th>3</th>\n",
       "      <td>663</td>\n",
       "      <td>NON-SMOKER</td>\n",
       "      <td>498710998CMC1417244504/29/1992 12:00:00 AMDisc...</td>\n",
       "      <td>0</td>\n",
       "    </tr>\n",
       "    <tr>\n",
       "      <th>6</th>\n",
       "      <td>660</td>\n",
       "      <td>PAST SMOKER</td>\n",
       "      <td>156406283HLGMC721364564723/51cy5/28/1993 12:00...</td>\n",
       "      <td>0</td>\n",
       "    </tr>\n",
       "    <tr>\n",
       "      <th>7</th>\n",
       "      <td>571</td>\n",
       "      <td>NON-SMOKER</td>\n",
       "      <td>851842962FIH618594423763/49880527109/14/1993 1...</td>\n",
       "      <td>0</td>\n",
       "    </tr>\n",
       "    <tr>\n",
       "      <th>9</th>\n",
       "      <td>691</td>\n",
       "      <td>NON-SMOKER</td>\n",
       "      <td>763428002BH351599790954408/07/2002 12:00:00 AM...</td>\n",
       "      <td>0</td>\n",
       "    </tr>\n",
       "    <tr>\n",
       "      <th>10</th>\n",
       "      <td>696</td>\n",
       "      <td>NON-SMOKER</td>\n",
       "      <td>139964603NVH4087653111/17/2003 12:00:00 AMPELV...</td>\n",
       "      <td>0</td>\n",
       "    </tr>\n",
       "  </tbody>\n",
       "</table>\n",
       "</div>"
      ],
      "text/plain": [
       "     id smoking_status                                             descrp  \\\n",
       "3   663     NON-SMOKER  498710998CMC1417244504/29/1992 12:00:00 AMDisc...   \n",
       "6   660    PAST SMOKER  156406283HLGMC721364564723/51cy5/28/1993 12:00...   \n",
       "7   571     NON-SMOKER  851842962FIH618594423763/49880527109/14/1993 1...   \n",
       "9   691     NON-SMOKER  763428002BH351599790954408/07/2002 12:00:00 AM...   \n",
       "10  696     NON-SMOKER  139964603NVH4087653111/17/2003 12:00:00 AMPELV...   \n",
       "\n",
       "    smoking_unknown  \n",
       "3                 0  \n",
       "6                 0  \n",
       "7                 0  \n",
       "9                 0  \n",
       "10                0  "
      ]
     },
     "execution_count": 56,
     "metadata": {},
     "output_type": "execute_result"
    }
   ],
   "source": [
    "secondf.head()"
   ]
  },
  {
   "cell_type": "markdown",
   "metadata": {},
   "source": [
    "## Data preprocessing"
   ]
  },
  {
   "cell_type": "code",
   "execution_count": 57,
   "metadata": {},
   "outputs": [
    {
     "name": "stderr",
     "output_type": "stream",
     "text": [
      "/Users/Faliha/miniconda3/lib/python3.6/site-packages/ipykernel_launcher.py:8: SettingWithCopyWarning: \n",
      "A value is trying to be set on a copy of a slice from a DataFrame.\n",
      "Try using .loc[row_indexer,col_indexer] = value instead\n",
      "\n",
      "See the caveats in the documentation: http://pandas.pydata.org/pandas-docs/stable/indexing.html#indexing-view-versus-copy\n",
      "  \n"
     ]
    }
   ],
   "source": [
    "# Out of the known smoking records, classifiy them based on the non smoker status\n",
    "def smokerclass(column):\n",
    "    if 'NON-SMOKER' in column :\n",
    "        return 1\n",
    "\n",
    "    else: return 0\n",
    "\n",
    "secondf[\"smoking_nonsmoker\"] = secondf[\"smoking_status\"].apply(smokerclass)"
   ]
  },
  {
   "cell_type": "code",
   "execution_count": 58,
   "metadata": {},
   "outputs": [
    {
     "data": {
      "text/html": [
       "<div>\n",
       "<style scoped>\n",
       "    .dataframe tbody tr th:only-of-type {\n",
       "        vertical-align: middle;\n",
       "    }\n",
       "\n",
       "    .dataframe tbody tr th {\n",
       "        vertical-align: top;\n",
       "    }\n",
       "\n",
       "    .dataframe thead th {\n",
       "        text-align: right;\n",
       "    }\n",
       "</style>\n",
       "<table border=\"1\" class=\"dataframe\">\n",
       "  <thead>\n",
       "    <tr style=\"text-align: right;\">\n",
       "      <th></th>\n",
       "      <th>id</th>\n",
       "      <th>smoking_status</th>\n",
       "      <th>descrp</th>\n",
       "      <th>smoking_unknown</th>\n",
       "      <th>smoking_nonsmoker</th>\n",
       "    </tr>\n",
       "  </thead>\n",
       "  <tbody>\n",
       "    <tr>\n",
       "      <th>3</th>\n",
       "      <td>663</td>\n",
       "      <td>NON-SMOKER</td>\n",
       "      <td>498710998CMC1417244504/29/1992 12:00:00 AMDisc...</td>\n",
       "      <td>0</td>\n",
       "      <td>1</td>\n",
       "    </tr>\n",
       "    <tr>\n",
       "      <th>6</th>\n",
       "      <td>660</td>\n",
       "      <td>PAST SMOKER</td>\n",
       "      <td>156406283HLGMC721364564723/51cy5/28/1993 12:00...</td>\n",
       "      <td>0</td>\n",
       "      <td>0</td>\n",
       "    </tr>\n",
       "    <tr>\n",
       "      <th>7</th>\n",
       "      <td>571</td>\n",
       "      <td>NON-SMOKER</td>\n",
       "      <td>851842962FIH618594423763/49880527109/14/1993 1...</td>\n",
       "      <td>0</td>\n",
       "      <td>1</td>\n",
       "    </tr>\n",
       "    <tr>\n",
       "      <th>9</th>\n",
       "      <td>691</td>\n",
       "      <td>NON-SMOKER</td>\n",
       "      <td>763428002BH351599790954408/07/2002 12:00:00 AM...</td>\n",
       "      <td>0</td>\n",
       "      <td>1</td>\n",
       "    </tr>\n",
       "    <tr>\n",
       "      <th>10</th>\n",
       "      <td>696</td>\n",
       "      <td>NON-SMOKER</td>\n",
       "      <td>139964603NVH4087653111/17/2003 12:00:00 AMPELV...</td>\n",
       "      <td>0</td>\n",
       "      <td>1</td>\n",
       "    </tr>\n",
       "  </tbody>\n",
       "</table>\n",
       "</div>"
      ],
      "text/plain": [
       "     id smoking_status                                             descrp  \\\n",
       "3   663     NON-SMOKER  498710998CMC1417244504/29/1992 12:00:00 AMDisc...   \n",
       "6   660    PAST SMOKER  156406283HLGMC721364564723/51cy5/28/1993 12:00...   \n",
       "7   571     NON-SMOKER  851842962FIH618594423763/49880527109/14/1993 1...   \n",
       "9   691     NON-SMOKER  763428002BH351599790954408/07/2002 12:00:00 AM...   \n",
       "10  696     NON-SMOKER  139964603NVH4087653111/17/2003 12:00:00 AMPELV...   \n",
       "\n",
       "    smoking_unknown  smoking_nonsmoker  \n",
       "3                 0                  1  \n",
       "6                 0                  0  \n",
       "7                 0                  1  \n",
       "9                 0                  1  \n",
       "10                0                  1  "
      ]
     },
     "execution_count": 58,
     "metadata": {},
     "output_type": "execute_result"
    }
   ],
   "source": [
    "secondf.head()"
   ]
  },
  {
   "cell_type": "code",
   "execution_count": 59,
   "metadata": {},
   "outputs": [
    {
     "data": {
      "text/plain": [
       "0    105\n",
       "1     82\n",
       "Name: smoking_nonsmoker, dtype: int64"
      ]
     },
     "execution_count": 59,
     "metadata": {},
     "output_type": "execute_result"
    }
   ],
   "source": [
    "secondf.smoking_nonsmoker.value_counts()"
   ]
  },
  {
   "cell_type": "markdown",
   "metadata": {},
   "source": [
    "## Classification Final Layer"
   ]
  },
  {
   "cell_type": "code",
   "execution_count": 60,
   "metadata": {},
   "outputs": [],
   "source": [
    "## Seperating only those rows which are considered as smoking records (past and current smoker)\n",
    "thirdf=secondf[secondf.smoking_nonsmoker==0]"
   ]
  },
  {
   "cell_type": "code",
   "execution_count": 61,
   "metadata": {},
   "outputs": [
    {
     "name": "stderr",
     "output_type": "stream",
     "text": [
      "/Users/Faliha/miniconda3/lib/python3.6/site-packages/ipykernel_launcher.py:7: SettingWithCopyWarning: \n",
      "A value is trying to be set on a copy of a slice from a DataFrame.\n",
      "Try using .loc[row_indexer,col_indexer] = value instead\n",
      "\n",
      "See the caveats in the documentation: http://pandas.pydata.org/pandas-docs/stable/indexing.html#indexing-view-versus-copy\n",
      "  import sys\n"
     ]
    }
   ],
   "source": [
    "def smokerclass3rd(column):\n",
    "    if 'PAST SMOKER' in column :\n",
    "        return 1\n",
    "\n",
    "    else :return 0\n",
    "\n",
    "thirdf[\"smoking_past\"] = thirdf[\"smoking_status\"].apply(smokerclass3rd)"
   ]
  },
  {
   "cell_type": "markdown",
   "metadata": {},
   "source": [
    "## Modeling"
   ]
  },
  {
   "cell_type": "code",
   "execution_count": 72,
   "metadata": {},
   "outputs": [],
   "source": [
    "def train_model(classifier, feature_vector_train, label, feature_vector_test, test_label):\n",
    "    # fit the training dataset on the classifier\n",
    "    classifier.fit(feature_vector_train, label)\n",
    "    \n",
    "    # predict the labels on validation dataset\n",
    "    predictions = classifier.predict(feature_vector_test)\n",
    "    prob=classifier.predict_proba(feature_vector_test)\n",
    "    pred=prob[:,1]\n",
    "    print (\"{} \".format(classifier))\n",
    "    print ('Accuracy:',accuracy_score(predictions, test_label))\n",
    "    print ('Recall:',recall_score(predictions, test_label),)\n",
    "    print ('Precision:',precision_score(predictions, test_label))\n",
    "    print ('F1:',f1_score(predictions, test_label))\n",
    "    print ('ROC:',roc_auc_score(test_label,pred))\n",
    "    print ('CM:',confusion_matrix(predictions, test_label))\n",
    "    return accuracy_score(predictions, test_label), recall_score(predictions, test_label),precision_score(predictions, test_label), f1_score(predictions, test_label), roc_auc_score(test_label, pred), confusion_matrix(predictions, test_label),pred\n"
   ]
  },
  {
   "cell_type": "code",
   "execution_count": 73,
   "metadata": {},
   "outputs": [],
   "source": [
    "def plot_confusion_matrix(cm):\n",
    "    '''Code stolen brazenly from sklearn example.'''\n",
    "    \n",
    "\n",
    "    print(cm)\n",
    "\n",
    "    # Show confusion matrix in a separate window\n",
    "    fig, ax = plt.subplots(figsize=(4,4))\n",
    "    sns.heatmap(cm, annot=True, fmt='d',xticklabels=['Known','Unknown'],yticklabels=['Known','Unknown'])\n",
    "    plt.title('Confusion matrix')\n",
    "    \n",
    "    \n",
    "    \n",
    "    \n",
    "    plt.ylabel('True label')\n",
    "    plt.xlabel('Predicted label')\n",
    "    plt.show()\n",
    "    \n",
    "   "
   ]
  },
  {
   "cell_type": "code",
   "execution_count": 74,
   "metadata": {},
   "outputs": [],
   "source": [
    "X  = thirdf['descrp']\n",
    "y = thirdf['smoking_past']"
   ]
  },
  {
   "cell_type": "code",
   "execution_count": 75,
   "metadata": {},
   "outputs": [],
   "source": [
    "X_train,  X_test,  y_train, y_test  =  train_test_split(X,y,test_size=0.3, random_state=50)"
   ]
  },
  {
   "cell_type": "markdown",
   "metadata": {},
   "source": [
    "#### Random Forest"
   ]
  },
  {
   "cell_type": "code",
   "execution_count": 76,
   "metadata": {},
   "outputs": [],
   "source": [
    "tfidf_vect = TfidfVectorizer(use_idf= True,norm= 'l2',preprocessor=text_process,ngram_range= (2, 5),\n",
    "                             min_df= 2,max_features= 8000,max_df=0.9)\n",
    "\n",
    "\n",
    "tfidf_vect.fit(X_train)\n",
    "xtrain_tfidf =  tfidf_vect.transform(X_train)\n",
    "xtest_tfidf =  tfidf_vect.transform(X_test)\n"
   ]
  },
  {
   "cell_type": "code",
   "execution_count": 77,
   "metadata": {},
   "outputs": [
    {
     "name": "stdout",
     "output_type": "stream",
     "text": [
      "RandomForestClassifier(bootstrap=True, class_weight=None, criterion='gini',\n",
      "            max_depth=40, max_features=0.2, max_leaf_nodes=None,\n",
      "            min_impurity_decrease=0.0, min_impurity_split=None,\n",
      "            min_samples_leaf=1, min_samples_split=3,\n",
      "            min_weight_fraction_leaf=0.0, n_estimators=1000, n_jobs=1,\n",
      "            oob_score=False, random_state=1, verbose=0, warm_start=False) \n",
      "Accuracy: 0.59375\n",
      "Recall: 0.5555555555555556\n",
      "Precision: 0.35714285714285715\n",
      "F1: 0.43478260869565216\n",
      "ROC: 0.6805555555555556\n",
      "CM: [[14  9]\n",
      " [ 4  5]]\n"
     ]
    }
   ],
   "source": [
    "accuracy_rf, recall_rf, precision_rf, f1_rf,roc_rf, cm_rf,pred_rf = train_model(RandomForestClassifier\n",
    "                                            (n_estimators= 1000,min_samples_split=3,min_samples_leaf= 1,\n",
    "                                             random_state=1,max_features =0.2,max_depth= 40), \n",
    "                                                                        xtrain_tfidf, y_train, xtest_tfidf,y_test)\n",
    "\n"
   ]
  },
  {
   "cell_type": "code",
   "execution_count": 78,
   "metadata": {},
   "outputs": [
    {
     "name": "stdout",
     "output_type": "stream",
     "text": [
      "[[14  9]\n",
      " [ 4  5]]\n"
     ]
    },
    {
     "data": {
      "image/png": "[encoded data removed]",
      "text/plain": [
       "<Figure size 288x288 with 2 Axes>"
      ]
     },
     "metadata": {},
     "output_type": "display_data"
    }
   ],
   "source": [
    "plot_confusion_matrix(cm_rf)"
   ]
  },
  {
   "cell_type": "markdown",
   "metadata": {},
   "source": [
    "#### Gradient Boosting"
   ]
  },
  {
   "cell_type": "code",
   "execution_count": 79,
   "metadata": {},
   "outputs": [
    {
     "name": "stdout",
     "output_type": "stream",
     "text": [
      "GradientBoostingClassifier(criterion='friedman_mse', init=None,\n",
      "              learning_rate=0.005, loss='deviance', max_depth=15,\n",
      "              max_features='sqrt', max_leaf_nodes=None,\n",
      "              min_impurity_decrease=0.0, min_impurity_split=None,\n",
      "              min_samples_leaf=1, min_samples_split=2,\n",
      "              min_weight_fraction_leaf=0.0, n_estimators=200,\n",
      "              presort='auto', random_state=15325, subsample=1.0, verbose=0,\n",
      "              warm_start=False) \n",
      "Accuracy: 0.59375\n",
      "Recall: 0.6\n",
      "Precision: 0.21428571428571427\n",
      "F1: 0.3157894736842105\n",
      "ROC: 0.7619047619047619\n",
      "CM: [[16 11]\n",
      " [ 2  3]]\n"
     ]
    }
   ],
   "source": [
    "tfidf_vect = TfidfVectorizer(use_idf= False,sublinear_tf= False,norm= 'l1',preprocessor=text_process,\n",
    "                             ngram_range= (1, 2),min_df= 4,max_features=4000,max_df=0.8)\n",
    "tfidf_vect.fit(X_train)\n",
    "xtrain_tfidf =  tfidf_vect.transform(X_train)\n",
    "xtest_tfidf =  tfidf_vect.transform(X_test)\n",
    "\n",
    "accuracy_gb, recall_gb, precision_gb, f1_gb,roc_gb,cm_gb,pred_gb=train_model(GradientBoostingClassifier(min_samples_leaf= 1,\n",
    "                                 min_samples_split= 2,max_features= 'sqrt',max_depth=15, learning_rate= 0.005,n_estimators=200,random_state=15325),\n",
    "            xtrain_tfidf, y_train, xtest_tfidf,y_test)\n"
   ]
  },
  {
   "cell_type": "code",
   "execution_count": 71,
   "metadata": {},
   "outputs": [
    {
     "name": "stdout",
     "output_type": "stream",
     "text": [
      "[[16 11]\n",
      " [ 2  3]]\n"
     ]
    },
    {
     "data": {
      "image/png": "[encoded data removed]",
      "text/plain": [
       "<Figure size 288x288 with 2 Axes>"
      ]
     },
     "metadata": {},
     "output_type": "display_data"
    }
   ],
   "source": [
    "plot_confusion_matrix(cm_gb)"
   ]
  },
  {
   "cell_type": "markdown",
   "metadata": {},
   "source": [
    "#### Logistic Regression"
   ]
  },
  {
   "cell_type": "code",
   "execution_count": 33,
   "metadata": {},
   "outputs": [],
   "source": [
    "tfidf_vect = TfidfVectorizer(use_idf= True,sublinear_tf= False,norm= 'l2',preprocessor=text_process,\n",
    "                             ngram_range= (2,3),min_df= 1,max_features=5000,max_df=0.9)\n",
    "tfidf_vect.fit(X_train)\n",
    "xtrain_tfidf =  tfidf_vect.transform(X_train)\n",
    "xtest_tfidf =  tfidf_vect.transform(X_test)\n",
    "\n"
   ]
  },
  {
   "cell_type": "code",
   "execution_count": 80,
   "metadata": {},
   "outputs": [
    {
     "name": "stdout",
     "output_type": "stream",
     "text": [
      "LogisticRegression(C=1000, class_weight=None, dual=False, fit_intercept=True,\n",
      "          intercept_scaling=1, max_iter=100, multi_class='ovr', n_jobs=1,\n",
      "          penalty='l1', random_state=15325, solver='liblinear', tol=0.0001,\n",
      "          verbose=0, warm_start=False) \n",
      "Accuracy: 0.5625\n",
      "Recall: 0.5\n",
      "Precision: 0.42857142857142855\n",
      "F1: 0.4615384615384615\n",
      "ROC: 0.6626984126984128\n",
      "CM: [[12  8]\n",
      " [ 6  6]]\n"
     ]
    }
   ],
   "source": [
    "accuracy_lr, recall_lr, precision_lr, f1_lr,roc_lr,cm_lr,pred_lr=train_model(LogisticRegression(random_state=15325,penalty='l1',C=1000),xtrain_tfidf, y_train, xtest_tfidf,y_test)\n",
    "\n"
   ]
  },
  {
   "cell_type": "code",
   "execution_count": 35,
   "metadata": {},
   "outputs": [
    {
     "name": "stdout",
     "output_type": "stream",
     "text": [
      "[[12  8]\n",
      " [ 6  6]]\n"
     ]
    },
    {
     "data": {
      "image/png": "[encoded data removed]",
      "text/plain": [
       "<Figure size 288x288 with 2 Axes>"
      ]
     },
     "metadata": {},
     "output_type": "display_data"
    }
   ],
   "source": [
    "plot_confusion_matrix(cm_lr)"
   ]
  },
  {
   "cell_type": "markdown",
   "metadata": {},
   "source": [
    "#### Naive Bayes"
   ]
  },
  {
   "cell_type": "code",
   "execution_count": 36,
   "metadata": {},
   "outputs": [],
   "source": [
    "tfidf_vect = TfidfVectorizer(use_idf= True,sublinear_tf=False,norm= 'l2',preprocessor=text_process,ngram_range= (1,5),\n",
    "                             min_df= 1,max_df=0.8)\n",
    "tfidf_vect.fit(X_train)\n",
    "xtrain_tfidf =  tfidf_vect.transform(X_train)\n",
    "xtest_tfidf =  tfidf_vect.transform(X_test)"
   ]
  },
  {
   "cell_type": "code",
   "execution_count": 81,
   "metadata": {},
   "outputs": [
    {
     "name": "stdout",
     "output_type": "stream",
     "text": [
      "MultinomialNB(alpha=0.0001, class_prior=None, fit_prior=True) \n",
      "Accuracy: 0.59375\n",
      "Recall: 1.0\n",
      "Precision: 0.07142857142857142\n",
      "F1: 0.13333333333333333\n",
      "ROC: 0.7142857142857142\n",
      "CM: [[18 13]\n",
      " [ 0  1]]\n"
     ]
    }
   ],
   "source": [
    "accuracy_nb, recall_nb, precision_nb, f1_nb,roc_nb,cm_nb,pred_nb = train_model(MultinomialNB(alpha=0.0001),\n",
    "                                                                       xtrain_tfidf, y_train, xtest_tfidf,y_test)\n"
   ]
  },
  {
   "cell_type": "markdown",
   "metadata": {},
   "source": [
    "### ROC CURVE"
   ]
  },
  {
   "cell_type": "code",
   "execution_count": 90,
   "metadata": {},
   "outputs": [
    {
     "data": {
      "text/plain": [
       "<Figure size 432x288 with 0 Axes>"
      ]
     },
     "metadata": {},
     "output_type": "display_data"
    },
    {
     "data": {
      "image/png": "[encoded data removed]",
      "text/plain": [
       "<Figure size 576x432 with 1 Axes>"
      ]
     },
     "metadata": {},
     "output_type": "display_data"
    }
   ],
   "source": [
    "plt.figure(0).clf()\n",
    "fig, ax = plt.subplots(figsize=(8,6))\n",
    "plt.title('Receiver Operating Characteristic',fontsize=18)\n",
    "ax.set_facecolor('darkslategray')\n",
    "\n",
    "\n",
    "\n",
    "\n",
    "\n",
    "fpr, tpr, thresh = roc_curve(y_test, pred_lr)\n",
    "auc = roc_auc_score(y_test, pred_lr)\n",
    "plt.plot(fpr,tpr,'gray',label=\"LR, auc=\"+str(round(auc, 2)))\n",
    "\n",
    "\n",
    "fpr, tpr, thresh = roc_curve(y_test, pred_rf)\n",
    "auc = roc_auc_score(y_test, pred_rf)\n",
    "plt.plot(fpr,tpr,'azure',label=\"RF, auc=\"+str(round(auc, 2)))\n",
    "\n",
    "\n",
    "\n",
    "fpr, tpr, thresh = roc_curve(y_test, pred_nb)\n",
    "auc = roc_auc_score(y_test, pred_nb)\n",
    "plt.plot(fpr,tpr,'black',label=\"NB, auc=\"+str(round(auc, 2)))\n",
    "\n",
    "\n",
    "fpr, tpr, thresh = roc_curve(y_test, pred_gb)\n",
    "auc = roc_auc_score(y_test, pred_gb)\n",
    "plt.plot(fpr,tpr,'yellow',label=\"GB, auc=\"+str(round(auc, 2)))\n",
    "\n",
    "\n",
    "\n",
    "plt.legend(loc = 'lower right',fontsize=14)\n",
    "plt.ylabel('True Positive Rate', fontsize=14)\n",
    "plt.xlabel('False Positive Rate',fontsize=14)\n",
    "\n",
    "plt.show()\n",
    "fig.savefig('layer3roc.jpg')"
   ]
  },
  {
   "cell_type": "code",
   "execution_count": null,
   "metadata": {},
   "outputs": [],
   "source": []
  },
  {
   "cell_type": "code",
   "execution_count": null,
   "metadata": {},
   "outputs": [],
   "source": []
  }
 ],
 "metadata": {
  "kernelspec": {
   "display_name": "Python 3",
   "language": "python",
   "name": "python3"
  },
  "language_info": {
   "codemirror_mode": {
    "name": "ipython",
    "version": 3
   },
   "file_extension": ".py",
   "mimetype": "text/x-python",
   "name": "python",
   "nbconvert_exporter": "python",
   "pygments_lexer": "ipython3",
   "version": "3.6.5"
  }
 },
 "nbformat": 4,
 "nbformat_minor": 1
}
