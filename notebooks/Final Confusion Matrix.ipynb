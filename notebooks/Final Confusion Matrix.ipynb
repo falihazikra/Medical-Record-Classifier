{
 "cells": [
  {
   "cell_type": "code",
   "execution_count": 98,
   "metadata": {},
   "outputs": [],
   "source": [
    "import numpy as np\n",
    "\n",
    "import pandas as pd\n",
    "import string\n",
    "import re\n",
    "import matplotlib.pyplot as plt\n",
    "import seaborn as sns\n",
    "import pickle\n",
    "from sklearn.externals import joblib\n",
    "from collections import Counter\n",
    "from sklearn.feature_extraction.text import TfidfVectorizer,CountVectorizer,TfidfTransformer\n",
    "from sklearn.feature_selection import chi2\n",
    "from sklearn.linear_model import LogisticRegression\n",
    "from sklearn.model_selection import train_test_split\n",
    "from sklearn.model_selection import GridSearchCV, RandomizedSearchCV\n",
    "from sklearn.naive_bayes import MultinomialNB\n",
    "from sklearn.tree import DecisionTreeClassifier\n",
    "from sklearn.ensemble import RandomForestClassifier\n",
    "from sklearn.ensemble import GradientBoostingClassifier\n",
    "from sklearn.ensemble import AdaBoostClassifier\n",
    "\n",
    "\n",
    "from sklearn.metrics import recall_score, precision_score, f1_score, accuracy_score,confusion_matrix, roc_auc_score,roc_curve,auc\n",
    "\n",
    "from sklearn.pipeline import Pipeline"
   ]
  },
  {
   "cell_type": "code",
   "execution_count": 2,
   "metadata": {},
   "outputs": [
    {
     "name": "stdout",
     "output_type": "stream",
     "text": [
      "/Users/Faliha/Desktop/cap/Medical-Record-Classifier\n"
     ]
    }
   ],
   "source": [
    "cd .."
   ]
  },
  {
   "cell_type": "code",
   "execution_count": 3,
   "metadata": {},
   "outputs": [
    {
     "name": "stdout",
     "output_type": "stream",
     "text": [
      "/Users/Faliha/Desktop/cap/Medical-Record-Classifier/code\n"
     ]
    }
   ],
   "source": [
    "cd code "
   ]
  },
  {
   "cell_type": "code",
   "execution_count": 100,
   "metadata": {},
   "outputs": [],
   "source": [
    "df0 = pd.read_json('smokers_surrogate_all_data copy.json')"
   ]
  },
  {
   "cell_type": "code",
   "execution_count": 101,
   "metadata": {},
   "outputs": [],
   "source": [
    "df=df0.copy()"
   ]
  },
  {
   "cell_type": "code",
   "execution_count": 102,
   "metadata": {},
   "outputs": [],
   "source": [
    "df=df.T"
   ]
  },
  {
   "cell_type": "code",
   "execution_count": 103,
   "metadata": {},
   "outputs": [],
   "source": [
    "df=df.reset_index()"
   ]
  },
  {
   "cell_type": "code",
   "execution_count": 104,
   "metadata": {},
   "outputs": [],
   "source": [
    "df.columns = ['id', 'smoking_status','descrp']"
   ]
  },
  {
   "cell_type": "code",
   "execution_count": 105,
   "metadata": {},
   "outputs": [],
   "source": [
    "df['smoking_status']=df['smoking_status'].replace({'SMOKER': 'CURRENT SMOKER'})"
   ]
  },
  {
   "cell_type": "code",
   "execution_count": 106,
   "metadata": {},
   "outputs": [],
   "source": [
    "df['smoking_cat'] = df['smoking_status'].factorize()[0]\n",
    "category_id_df = df[['smoking_status', 'smoking_cat']].drop_duplicates().sort_values('smoking_cat')\n",
    "category_to_id = dict(category_id_df.values)"
   ]
  },
  {
   "cell_type": "code",
   "execution_count": 107,
   "metadata": {},
   "outputs": [],
   "source": [
    "X  = df['descrp']\n",
    "y = df['smoking_cat']"
   ]
  },
  {
   "cell_type": "code",
   "execution_count": 108,
   "metadata": {},
   "outputs": [],
   "source": [
    "X_train,  X_test,  y_train, y_test  =  train_test_split(X,y,test_size=0.30, random_state=42)"
   ]
  },
  {
   "cell_type": "code",
   "execution_count": 109,
   "metadata": {},
   "outputs": [
    {
     "data": {
      "text/plain": [
       "0    106\n",
       "1     22\n",
       "3     15\n",
       "2      8\n",
       "Name: smoking_cat, dtype: int64"
      ]
     },
     "execution_count": 109,
     "metadata": {},
     "output_type": "execute_result"
    }
   ],
   "source": [
    "y_test.value_counts()"
   ]
  },
  {
   "cell_type": "code",
   "execution_count": 66,
   "metadata": {},
   "outputs": [],
   "source": [
    "# list to store the predicted labels\n",
    "predlist=[]\n",
    "\n",
    "for i in X_test:\n",
    "    i=[i]\n",
    "    #layer 1 classification\n",
    "    #loading the pickled model and tfidf\n",
    "    lr=joblib.load('1.LR.pkl.')\n",
    "    tfidf1=joblib.load('1.LR-TFIDF.pkl')\n",
    "    xtfidf_lr=tfidf1.transform(i)\n",
    "    \n",
    "    \n",
    "    pred1=lr.predict(xtfidf_lr)\n",
    "    \n",
    "    if pred1==1: #corresponds to Unknown , store are category 0\n",
    "        pred1=0\n",
    "        predlist.append(pred1)\n",
    "        \n",
    "    else:\n",
    "        \n",
    "        #Layer 2 classification\n",
    "        \n",
    "        gb2=joblib.load('2.GB.pkl')\n",
    "        tfidf2=joblib.load('2.GB-TFIDF.pkl')\n",
    "        xtfidf_gb2=tfidf2.transform(i)\n",
    "        \n",
    "        pred2=gb2.predict(xtfidf_gb2)\n",
    "        \n",
    "        if pred2==1:#corresponds to Non-Smoker , store are category 2\n",
    "            pred2=1\n",
    "            predlist.append(pred2)\n",
    "            \n",
    "        else:\n",
    "            \n",
    "            #Layer 3 classification\n",
    "            \n",
    "            gb3=joblib.load('3.GB.pkl')\n",
    "            tfidf3=joblib.load('3.GB-TFIDF.pkl')\n",
    "            xtfidf_gb3=tfidf3.transform(i)\n",
    "            \n",
    "            pred3=gb3.predict(xtfidf_gb3)\n",
    "            \n",
    "            if pred3==1: #corresponds to Past Smoker , store are category 2\n",
    "                pred3=2\n",
    "                predlist.append(pred3)\n",
    "                \n",
    "            else:\n",
    "                pred3=3 #corresponds to Current Smoker , store are category 3\n",
    "                predlist.append(pred3)\n",
    "                \n"
   ]
  },
  {
   "cell_type": "code",
   "execution_count": 67,
   "metadata": {},
   "outputs": [
    {
     "data": {
      "text/plain": [
       "151"
      ]
     },
     "execution_count": 67,
     "metadata": {},
     "output_type": "execute_result"
    }
   ],
   "source": [
    "#Checking to see if the lengths are equal for the actual and predicted list \n",
    "\n",
    "len(predlist) "
   ]
  },
  {
   "cell_type": "code",
   "execution_count": 68,
   "metadata": {},
   "outputs": [
    {
     "data": {
      "text/plain": [
       "151"
      ]
     },
     "execution_count": 68,
     "metadata": {},
     "output_type": "execute_result"
    }
   ],
   "source": [
    "len(y_test)"
   ]
  },
  {
   "cell_type": "code",
   "execution_count": 81,
   "metadata": {},
   "outputs": [],
   "source": [
    "cm=confusion_matrix(y_test, predlist)"
   ]
  },
  {
   "cell_type": "code",
   "execution_count": 96,
   "metadata": {},
   "outputs": [],
   "source": [
    "def plot_confusion_matrix(cm):\n",
    "    '''Code stolen brazenly from sklearn example.'''\n",
    "    \n",
    "\n",
    "    print(cm)\n",
    "\n",
    "    # Show confusion matrix in a separate window\n",
    "    fig, ax = plt.subplots(figsize=(8,8))\n",
    "    sns.heatmap(cm, annot=True, fmt='d',xticklabels=['Unknown','Non-Smoker','Past Smoker', 'Current Smoker'],\n",
    "                yticklabels=['Unknown','Non-Smoker','Past Smoker', 'Current Smoker'])\n",
    "    plt.title('Confusion matrix', fontsize=22)\n",
    "    \n",
    "    \n",
    "    \n",
    "    \n",
    "    plt.ylabel('True label', fontsize=18)\n",
    "    \n",
    "    plt.xlabel('Predicted label', fontsize=18)\n",
    "    \n",
    "    plt.show()"
   ]
  },
  {
   "cell_type": "code",
   "execution_count": 97,
   "metadata": {},
   "outputs": [
    {
     "name": "stdout",
     "output_type": "stream",
     "text": [
      "[[104   0   2   0]\n",
      " [  2  17   1   2]\n",
      " [  0   1   6   1]\n",
      " [  3   0   1  11]]\n"
     ]
    },
    {
     "data": {
      "image/png": "[encoded data removed]",
      "text/plain": [
       "<Figure size 576x576 with 2 Axes>"
      ]
     },
     "metadata": {},
     "output_type": "display_data"
    }
   ],
   "source": [
    "plot_confusion_matrix(cm)"
   ]
  },
  {
   "cell_type": "code",
   "execution_count": 113,
   "metadata": {},
   "outputs": [],
   "source": [
    "# list to store the predicted labels\n",
    "predlist=[]\n",
    "\n",
    "for i in X:\n",
    "    i=[i]\n",
    "    #layer 1 classification\n",
    "    #loading the pickled model and tfidf\n",
    "    lr=joblib.load('1.LR.pkl.')\n",
    "    tfidf1=joblib.load('1.LR-TFIDF.pkl')\n",
    "    xtfidf_lr=tfidf1.transform(i)\n",
    "    \n",
    "    \n",
    "    pred1=lr.predict(xtfidf_lr)\n",
    "    \n",
    "    if pred1==1: #corresponds to Unknown , store are category 0\n",
    "        pred1=0\n",
    "        predlist.append(pred1)\n",
    "        \n",
    "    else:\n",
    "        \n",
    "        #Layer 2 classification\n",
    "        \n",
    "        gb2=joblib.load('2.GB.pkl')\n",
    "        tfidf2=joblib.load('2.GB-TFIDF.pkl')\n",
    "        xtfidf_gb2=tfidf2.transform(i)\n",
    "        \n",
    "        pred2=gb2.predict(xtfidf_gb2)\n",
    "        \n",
    "        if pred2==1:#corresponds to Non-Smoker , store are category 2\n",
    "            pred2=1\n",
    "            predlist.append(pred2)\n",
    "            \n",
    "        else:\n",
    "            \n",
    "            #Layer 3 classification\n",
    "            \n",
    "            gb3=joblib.load('3.GB.pkl')\n",
    "            tfidf3=joblib.load('3.GB-TFIDF.pkl')\n",
    "            xtfidf_gb3=tfidf3.transform(i)\n",
    "            \n",
    "            pred3=gb3.predict(xtfidf_gb3)\n",
    "            \n",
    "            if pred3==1: #corresponds to Past Smoker , store are category 2\n",
    "                pred3=2\n",
    "                predlist.append(pred3)\n",
    "                \n",
    "            else:\n",
    "                pred3=3 #corresponds to Current Smoker , store are category 3\n",
    "                predlist.append(pred3)\n",
    "                \n"
   ]
  },
  {
   "cell_type": "code",
   "execution_count": null,
   "metadata": {},
   "outputs": [],
   "source": [
    "cm=confusion_matrix_matrix(y, predlist)\n",
    "plot_confusion_matrix(cm)"
   ]
  },
  {
   "cell_type": "code",
   "execution_count": 111,
   "metadata": {},
   "outputs": [],
   "source": [
    "def text_process(description):\n",
    "    \n",
    "    \n",
    "        \n",
    "    nopunc=[char for char in description if char not in string.punctuation]\n",
    "    \n",
    "    nopunc=''.join(nopunc)\n",
    "    \n",
    "    splitnum  = re.split('(\\d+)',nopunc)\n",
    "    splitnum=' '.join(splitnum)\n",
    "    new=re.sub(\" \\d+\", \" \", splitnum)"
   ]
  },
  {
   "cell_type": "code",
   "execution_count": 112,
   "metadata": {},
   "outputs": [
    {
     "ename": "TypeError",
     "evalue": "expected string or bytes-like object",
     "output_type": "error",
     "traceback": [
      "\u001b[0;31m---------------------------------------------------------------------------\u001b[0m",
      "\u001b[0;31mTypeError\u001b[0m                                 Traceback (most recent call last)",
      "\u001b[0;32m<ipython-input-112-c195e3f23471>\u001b[0m in \u001b[0;36m<module>\u001b[0;34m()\u001b[0m\n\u001b[1;32m      5\u001b[0m     tfidf_vect = TfidfVectorizer(use_idf= True,sublinear_tf= True,norm= 'l2',preprocessor=text_process,\n\u001b[1;32m      6\u001b[0m                              ngram_range= (1, 3),min_df= 4,max_features=3000,max_df=0.9)\n\u001b[0;32m----> 7\u001b[0;31m     \u001b[0mtfidf_vect\u001b[0m\u001b[0;34m.\u001b[0m\u001b[0mfit\u001b[0m\u001b[0;34m(\u001b[0m\u001b[0mX_train\u001b[0m\u001b[0;34m)\u001b[0m\u001b[0;34m\u001b[0m\u001b[0m\n\u001b[0m\u001b[1;32m      8\u001b[0m     \u001b[0mxtrain_tfidf\u001b[0m \u001b[0;34m=\u001b[0m  \u001b[0mtfidf_vect\u001b[0m\u001b[0;34m.\u001b[0m\u001b[0mtransform\u001b[0m\u001b[0;34m(\u001b[0m\u001b[0mX_train\u001b[0m\u001b[0;34m)\u001b[0m\u001b[0;34m\u001b[0m\u001b[0m\n\u001b[1;32m      9\u001b[0m     \u001b[0mxtest_tfidf\u001b[0m \u001b[0;34m=\u001b[0m  \u001b[0mtfidf_vect\u001b[0m\u001b[0;34m.\u001b[0m\u001b[0mtransform\u001b[0m\u001b[0;34m(\u001b[0m\u001b[0mX_test\u001b[0m\u001b[0;34m)\u001b[0m\u001b[0;34m\u001b[0m\u001b[0m\n",
      "\u001b[0;32m~/miniconda3/lib/python3.6/site-packages/sklearn/feature_extraction/text.py\u001b[0m in \u001b[0;36mfit\u001b[0;34m(self, raw_documents, y)\u001b[0m\n\u001b[1;32m   1359\u001b[0m         \u001b[0mself\u001b[0m \u001b[0;34m:\u001b[0m \u001b[0mTfidfVectorizer\u001b[0m\u001b[0;34m\u001b[0m\u001b[0m\n\u001b[1;32m   1360\u001b[0m         \"\"\"\n\u001b[0;32m-> 1361\u001b[0;31m         \u001b[0mX\u001b[0m \u001b[0;34m=\u001b[0m \u001b[0msuper\u001b[0m\u001b[0;34m(\u001b[0m\u001b[0mTfidfVectorizer\u001b[0m\u001b[0;34m,\u001b[0m \u001b[0mself\u001b[0m\u001b[0;34m)\u001b[0m\u001b[0;34m.\u001b[0m\u001b[0mfit_transform\u001b[0m\u001b[0;34m(\u001b[0m\u001b[0mraw_documents\u001b[0m\u001b[0;34m)\u001b[0m\u001b[0;34m\u001b[0m\u001b[0m\n\u001b[0m\u001b[1;32m   1362\u001b[0m         \u001b[0mself\u001b[0m\u001b[0;34m.\u001b[0m\u001b[0m_tfidf\u001b[0m\u001b[0;34m.\u001b[0m\u001b[0mfit\u001b[0m\u001b[0;34m(\u001b[0m\u001b[0mX\u001b[0m\u001b[0;34m)\u001b[0m\u001b[0;34m\u001b[0m\u001b[0m\n\u001b[1;32m   1363\u001b[0m         \u001b[0;32mreturn\u001b[0m \u001b[0mself\u001b[0m\u001b[0;34m\u001b[0m\u001b[0m\n",
      "\u001b[0;32m~/miniconda3/lib/python3.6/site-packages/sklearn/feature_extraction/text.py\u001b[0m in \u001b[0;36mfit_transform\u001b[0;34m(self, raw_documents, y)\u001b[0m\n\u001b[1;32m    867\u001b[0m \u001b[0;34m\u001b[0m\u001b[0m\n\u001b[1;32m    868\u001b[0m         vocabulary, X = self._count_vocab(raw_documents,\n\u001b[0;32m--> 869\u001b[0;31m                                           self.fixed_vocabulary_)\n\u001b[0m\u001b[1;32m    870\u001b[0m \u001b[0;34m\u001b[0m\u001b[0m\n\u001b[1;32m    871\u001b[0m         \u001b[0;32mif\u001b[0m \u001b[0mself\u001b[0m\u001b[0;34m.\u001b[0m\u001b[0mbinary\u001b[0m\u001b[0;34m:\u001b[0m\u001b[0;34m\u001b[0m\u001b[0m\n",
      "\u001b[0;32m~/miniconda3/lib/python3.6/site-packages/sklearn/feature_extraction/text.py\u001b[0m in \u001b[0;36m_count_vocab\u001b[0;34m(self, raw_documents, fixed_vocab)\u001b[0m\n\u001b[1;32m    790\u001b[0m         \u001b[0;32mfor\u001b[0m \u001b[0mdoc\u001b[0m \u001b[0;32min\u001b[0m \u001b[0mraw_documents\u001b[0m\u001b[0;34m:\u001b[0m\u001b[0;34m\u001b[0m\u001b[0m\n\u001b[1;32m    791\u001b[0m             \u001b[0mfeature_counter\u001b[0m \u001b[0;34m=\u001b[0m \u001b[0;34m{\u001b[0m\u001b[0;34m}\u001b[0m\u001b[0;34m\u001b[0m\u001b[0m\n\u001b[0;32m--> 792\u001b[0;31m             \u001b[0;32mfor\u001b[0m \u001b[0mfeature\u001b[0m \u001b[0;32min\u001b[0m \u001b[0manalyze\u001b[0m\u001b[0;34m(\u001b[0m\u001b[0mdoc\u001b[0m\u001b[0;34m)\u001b[0m\u001b[0;34m:\u001b[0m\u001b[0;34m\u001b[0m\u001b[0m\n\u001b[0m\u001b[1;32m    793\u001b[0m                 \u001b[0;32mtry\u001b[0m\u001b[0;34m:\u001b[0m\u001b[0;34m\u001b[0m\u001b[0m\n\u001b[1;32m    794\u001b[0m                     \u001b[0mfeature_idx\u001b[0m \u001b[0;34m=\u001b[0m \u001b[0mvocabulary\u001b[0m\u001b[0;34m[\u001b[0m\u001b[0mfeature\u001b[0m\u001b[0;34m]\u001b[0m\u001b[0;34m\u001b[0m\u001b[0m\n",
      "\u001b[0;32m~/miniconda3/lib/python3.6/site-packages/sklearn/feature_extraction/text.py\u001b[0m in \u001b[0;36m<lambda>\u001b[0;34m(doc)\u001b[0m\n\u001b[1;32m    264\u001b[0m \u001b[0;34m\u001b[0m\u001b[0m\n\u001b[1;32m    265\u001b[0m             return lambda doc: self._word_ngrams(\n\u001b[0;32m--> 266\u001b[0;31m                 tokenize(preprocess(self.decode(doc))), stop_words)\n\u001b[0m\u001b[1;32m    267\u001b[0m \u001b[0;34m\u001b[0m\u001b[0m\n\u001b[1;32m    268\u001b[0m         \u001b[0;32melse\u001b[0m\u001b[0;34m:\u001b[0m\u001b[0;34m\u001b[0m\u001b[0m\n",
      "\u001b[0;32m~/miniconda3/lib/python3.6/site-packages/sklearn/feature_extraction/text.py\u001b[0m in \u001b[0;36m<lambda>\u001b[0;34m(doc)\u001b[0m\n\u001b[1;32m    239\u001b[0m             \u001b[0;32mreturn\u001b[0m \u001b[0mself\u001b[0m\u001b[0;34m.\u001b[0m\u001b[0mtokenizer\u001b[0m\u001b[0;34m\u001b[0m\u001b[0m\n\u001b[1;32m    240\u001b[0m         \u001b[0mtoken_pattern\u001b[0m \u001b[0;34m=\u001b[0m \u001b[0mre\u001b[0m\u001b[0;34m.\u001b[0m\u001b[0mcompile\u001b[0m\u001b[0;34m(\u001b[0m\u001b[0mself\u001b[0m\u001b[0;34m.\u001b[0m\u001b[0mtoken_pattern\u001b[0m\u001b[0;34m)\u001b[0m\u001b[0;34m\u001b[0m\u001b[0m\n\u001b[0;32m--> 241\u001b[0;31m         \u001b[0;32mreturn\u001b[0m \u001b[0;32mlambda\u001b[0m \u001b[0mdoc\u001b[0m\u001b[0;34m:\u001b[0m \u001b[0mtoken_pattern\u001b[0m\u001b[0;34m.\u001b[0m\u001b[0mfindall\u001b[0m\u001b[0;34m(\u001b[0m\u001b[0mdoc\u001b[0m\u001b[0;34m)\u001b[0m\u001b[0;34m\u001b[0m\u001b[0m\n\u001b[0m\u001b[1;32m    242\u001b[0m \u001b[0;34m\u001b[0m\u001b[0m\n\u001b[1;32m    243\u001b[0m     \u001b[0;32mdef\u001b[0m \u001b[0mget_stop_words\u001b[0m\u001b[0;34m(\u001b[0m\u001b[0mself\u001b[0m\u001b[0;34m)\u001b[0m\u001b[0;34m:\u001b[0m\u001b[0;34m\u001b[0m\u001b[0m\n",
      "\u001b[0;31mTypeError\u001b[0m: expected string or bytes-like object"
     ]
    }
   ],
   "source": [
    "# for i in X_test:\n",
    "#     i=[i]\n",
    "#     #layer 1 classification\n",
    "#     #loading the pickled model and tfidf\n",
    "#     tfidf_vect = TfidfVectorizer(use_idf= True,sublinear_tf= True,norm= 'l2',preprocessor=text_process,\n",
    "#                              ngram_range= (1, 3),min_df= 4,max_features=3000,max_df=0.9)\n",
    "#     tfidf_vect.fit(X_train)\n",
    "#     xtrain_tfidf =  tfidf_vect.transform(X_train)\n",
    "#     xtest_tfidf =  tfidf_vect.transform(X_test)\n",
    "    \n",
    "#     clf=LogisticRegression(random_state=15325,penalty='l1',C=1000)\n",
    "#     clf.fit(X_train, y_train)\n",
    "    \n",
    "#     # predict the labels on validation dataset\n",
    "#     pred1 = clf.predict(xtest_tfidf)\n",
    "    \n",
    "    \n",
    "    \n",
    "#     if pred1==1: #corresponds to Unknown , store are category 0\n",
    "#         pred1=0\n",
    "#         predlist.append(pred1)\n",
    "        \n",
    "#     else:\n",
    "        \n",
    "#         #Layer 2 classification\n",
    "        \n",
    "#         tfidf_vect = TfidfVectorizer(use_idf= False,sublinear_tf= True,norm= 'l1',preprocessor=text_process,\n",
    "#                              ngram_range= (1, 2),min_df= 4,max_features=7000,max_df=0.8)\n",
    "#         tfidf_vect.fit(X_train)\n",
    "#         xtrain_tfidf =  tfidf_vect.transform(X_train)\n",
    "#         xtest_tfidf =  tfidf_vect.transform(X_test)\n",
    "        \n",
    "        \n",
    "#         clf= GradientBoostingClassifier(min_samples_leaf= 1,\n",
    "#                                  min_samples_split= 20,max_features= 'auto',max_depth=1, learning_rate= 0.05,\n",
    "#                                    n_estimators=100,random_state=15325)\n",
    "#         clf.fit(X_train, y_train)\n",
    "    \n",
    "#     # predict the labels on validation dataset\n",
    "#         pred2 = clf.predict(xtest_tfidf)\n",
    "        \n",
    "#         if pred2==1:#corresponds to Non-Smoker , store are category 2\n",
    "#             pred2=1\n",
    "#             predlist.append(pred2)\n",
    "            \n",
    "#         else:\n",
    "            \n",
    "#             #Layer 3 classification\n",
    "            \n",
    "#             tfidf_vect = TfidfVectorizer(use_idf= False,sublinear_tf= False,norm= 'l1',preprocessor=text_process,\n",
    "#                              ngram_range= (1, 2),min_df= 4,max_features=4000,max_df=0.8)\n",
    "#             tfidf_vect.fit(X_train)\n",
    "#             xtrain_tfidf =  tfidf_vect.transform(X_train)\n",
    "#             xtest_tfidf =  tfidf_vect.transform(X_test)\n",
    "            \n",
    "#             GradientBoostingClassifier(min_samples_leaf= 1,\n",
    "#                                  min_samples_split= 2,max_features= 'sqrt',\n",
    "#                                        max_depth=15, learning_rate= 0.005,n_estimators=200,random_state=15325)\n",
    "            \n",
    "#             clf.fit(X_train, y_train)\n",
    "    \n",
    "#     # predict the labels on validation dataset\n",
    "#             pred3 = clf.predict(xtest_tfidf)\n",
    "#             if pred3==1: #corresponds to Past Smoker , store are category 2\n",
    "#                 pred3=2\n",
    "#                 predlist.append(pred3)\n",
    "                \n",
    "#             else:\n",
    "#                 pred3=3 #corresponds to Current Smoker , store are category 3\n",
    "#                 predlist.append(pred3)\n",
    "                \n"
   ]
  },
  {
   "cell_type": "code",
   "execution_count": null,
   "metadata": {},
   "outputs": [],
   "source": []
  }
 ],
 "metadata": {
  "kernelspec": {
   "display_name": "Python 3",
   "language": "python",
   "name": "python3"
  },
  "language_info": {
   "codemirror_mode": {
    "name": "ipython",
    "version": 3
   },
   "file_extension": ".py",
   "mimetype": "text/x-python",
   "name": "python",
   "nbconvert_exporter": "python",
   "pygments_lexer": "ipython3",
   "version": "3.6.5"
  }
 },
 "nbformat": 4,
 "nbformat_minor": 2
}
